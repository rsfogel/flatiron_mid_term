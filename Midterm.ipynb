{
 "cells": [
  {
   "cell_type": "markdown",
   "metadata": {},
   "source": [
    "## Project Outline\n",
    "* Load Data\n",
    "* Exploratory Analysis\n",
    "* Initial Model\n",
    "* Evaluation\n",
    "* Feature Engineering\n",
    "* Model 2\n",
    "* Evaluation\n",
    "* Further Investigation/Exploration"
   ]
  },
  {
   "cell_type": "markdown",
   "metadata": {},
   "source": [
    "## Load Data"
   ]
  },
  {
   "cell_type": "code",
   "execution_count": 50,
   "metadata": {},
   "outputs": [],
   "source": [
    "import numpy as np\n",
    "import pandas as pd\n",
    "import seaborn as sns\n",
    "import matplotlib.pyplot as plt\n",
    "%matplotlib inline\n",
    "\n",
    "import plotnine\n",
    "from plotnine import *"
   ]
  },
  {
   "cell_type": "code",
   "execution_count": null,
   "metadata": {},
   "outputs": [],
   "source": []
  },
  {
   "cell_type": "code",
   "execution_count": 51,
   "metadata": {
    "scrolled": false
   },
   "outputs": [
    {
     "name": "stdout",
     "output_type": "stream",
     "text": [
      "Length of Dataset:  8190\n",
      "Column Names:\n",
      " Index(['Store', 'Date', 'Temperature', 'Fuel_Price', 'MarkDown1', 'MarkDown2',\n",
      "       'MarkDown3', 'MarkDown4', 'MarkDown5', 'CPI', 'Unemployment',\n",
      "       'IsHoliday'],\n",
      "      dtype='object')\n"
     ]
    },
    {
     "data": {
      "text/html": [
       "<div>\n",
       "<style scoped>\n",
       "    .dataframe tbody tr th:only-of-type {\n",
       "        vertical-align: middle;\n",
       "    }\n",
       "\n",
       "    .dataframe tbody tr th {\n",
       "        vertical-align: top;\n",
       "    }\n",
       "\n",
       "    .dataframe thead th {\n",
       "        text-align: right;\n",
       "    }\n",
       "</style>\n",
       "<table border=\"1\" class=\"dataframe\">\n",
       "  <thead>\n",
       "    <tr style=\"text-align: right;\">\n",
       "      <th></th>\n",
       "      <th>Store</th>\n",
       "      <th>Date</th>\n",
       "      <th>Temperature</th>\n",
       "      <th>Fuel_Price</th>\n",
       "      <th>MarkDown1</th>\n",
       "      <th>MarkDown2</th>\n",
       "      <th>MarkDown3</th>\n",
       "      <th>MarkDown4</th>\n",
       "      <th>MarkDown5</th>\n",
       "      <th>CPI</th>\n",
       "      <th>Unemployment</th>\n",
       "      <th>IsHoliday</th>\n",
       "    </tr>\n",
       "  </thead>\n",
       "  <tbody>\n",
       "    <tr>\n",
       "      <th>0</th>\n",
       "      <td>1</td>\n",
       "      <td>2010-02-05</td>\n",
       "      <td>42.31</td>\n",
       "      <td>2.572</td>\n",
       "      <td>NaN</td>\n",
       "      <td>NaN</td>\n",
       "      <td>NaN</td>\n",
       "      <td>NaN</td>\n",
       "      <td>NaN</td>\n",
       "      <td>211.096358</td>\n",
       "      <td>8.106</td>\n",
       "      <td>False</td>\n",
       "    </tr>\n",
       "    <tr>\n",
       "      <th>1</th>\n",
       "      <td>1</td>\n",
       "      <td>2010-02-12</td>\n",
       "      <td>38.51</td>\n",
       "      <td>2.548</td>\n",
       "      <td>NaN</td>\n",
       "      <td>NaN</td>\n",
       "      <td>NaN</td>\n",
       "      <td>NaN</td>\n",
       "      <td>NaN</td>\n",
       "      <td>211.242170</td>\n",
       "      <td>8.106</td>\n",
       "      <td>True</td>\n",
       "    </tr>\n",
       "    <tr>\n",
       "      <th>2</th>\n",
       "      <td>1</td>\n",
       "      <td>2010-02-19</td>\n",
       "      <td>39.93</td>\n",
       "      <td>2.514</td>\n",
       "      <td>NaN</td>\n",
       "      <td>NaN</td>\n",
       "      <td>NaN</td>\n",
       "      <td>NaN</td>\n",
       "      <td>NaN</td>\n",
       "      <td>211.289143</td>\n",
       "      <td>8.106</td>\n",
       "      <td>False</td>\n",
       "    </tr>\n",
       "    <tr>\n",
       "      <th>3</th>\n",
       "      <td>1</td>\n",
       "      <td>2010-02-26</td>\n",
       "      <td>46.63</td>\n",
       "      <td>2.561</td>\n",
       "      <td>NaN</td>\n",
       "      <td>NaN</td>\n",
       "      <td>NaN</td>\n",
       "      <td>NaN</td>\n",
       "      <td>NaN</td>\n",
       "      <td>211.319643</td>\n",
       "      <td>8.106</td>\n",
       "      <td>False</td>\n",
       "    </tr>\n",
       "    <tr>\n",
       "      <th>4</th>\n",
       "      <td>1</td>\n",
       "      <td>2010-03-05</td>\n",
       "      <td>46.50</td>\n",
       "      <td>2.625</td>\n",
       "      <td>NaN</td>\n",
       "      <td>NaN</td>\n",
       "      <td>NaN</td>\n",
       "      <td>NaN</td>\n",
       "      <td>NaN</td>\n",
       "      <td>211.350143</td>\n",
       "      <td>8.106</td>\n",
       "      <td>False</td>\n",
       "    </tr>\n",
       "  </tbody>\n",
       "</table>\n",
       "</div>"
      ],
      "text/plain": [
       "   Store        Date  Temperature  Fuel_Price  MarkDown1  MarkDown2  \\\n",
       "0      1  2010-02-05        42.31       2.572        NaN        NaN   \n",
       "1      1  2010-02-12        38.51       2.548        NaN        NaN   \n",
       "2      1  2010-02-19        39.93       2.514        NaN        NaN   \n",
       "3      1  2010-02-26        46.63       2.561        NaN        NaN   \n",
       "4      1  2010-03-05        46.50       2.625        NaN        NaN   \n",
       "\n",
       "   MarkDown3  MarkDown4  MarkDown5         CPI  Unemployment  IsHoliday  \n",
       "0        NaN        NaN        NaN  211.096358         8.106      False  \n",
       "1        NaN        NaN        NaN  211.242170         8.106       True  \n",
       "2        NaN        NaN        NaN  211.289143         8.106      False  \n",
       "3        NaN        NaN        NaN  211.319643         8.106      False  \n",
       "4        NaN        NaN        NaN  211.350143         8.106      False  "
      ]
     },
     "execution_count": 51,
     "metadata": {},
     "output_type": "execute_result"
    }
   ],
   "source": [
    "df1 = pd.read_csv('./Datasets/features.csv')\n",
    "print('Length of Dataset: ', len(df1))\n",
    "print('Column Names:\\n', df1.columns)\n",
    "df1.head()"
   ]
  },
  {
   "cell_type": "code",
   "execution_count": null,
   "metadata": {},
   "outputs": [],
   "source": []
  },
  {
   "cell_type": "code",
   "execution_count": 52,
   "metadata": {
    "scrolled": true
   },
   "outputs": [
    {
     "name": "stdout",
     "output_type": "stream",
     "text": [
      "421570\n"
     ]
    },
    {
     "data": {
      "text/html": [
       "<div>\n",
       "<style scoped>\n",
       "    .dataframe tbody tr th:only-of-type {\n",
       "        vertical-align: middle;\n",
       "    }\n",
       "\n",
       "    .dataframe tbody tr th {\n",
       "        vertical-align: top;\n",
       "    }\n",
       "\n",
       "    .dataframe thead th {\n",
       "        text-align: right;\n",
       "    }\n",
       "</style>\n",
       "<table border=\"1\" class=\"dataframe\">\n",
       "  <thead>\n",
       "    <tr style=\"text-align: right;\">\n",
       "      <th></th>\n",
       "      <th>Store</th>\n",
       "      <th>Dept</th>\n",
       "      <th>Date</th>\n",
       "      <th>Weekly_Sales</th>\n",
       "      <th>IsHoliday</th>\n",
       "    </tr>\n",
       "  </thead>\n",
       "  <tbody>\n",
       "    <tr>\n",
       "      <th>0</th>\n",
       "      <td>1</td>\n",
       "      <td>1</td>\n",
       "      <td>2010-02-05</td>\n",
       "      <td>24924.50</td>\n",
       "      <td>False</td>\n",
       "    </tr>\n",
       "    <tr>\n",
       "      <th>1</th>\n",
       "      <td>1</td>\n",
       "      <td>1</td>\n",
       "      <td>2010-02-12</td>\n",
       "      <td>46039.49</td>\n",
       "      <td>True</td>\n",
       "    </tr>\n",
       "    <tr>\n",
       "      <th>2</th>\n",
       "      <td>1</td>\n",
       "      <td>1</td>\n",
       "      <td>2010-02-19</td>\n",
       "      <td>41595.55</td>\n",
       "      <td>False</td>\n",
       "    </tr>\n",
       "    <tr>\n",
       "      <th>3</th>\n",
       "      <td>1</td>\n",
       "      <td>1</td>\n",
       "      <td>2010-02-26</td>\n",
       "      <td>19403.54</td>\n",
       "      <td>False</td>\n",
       "    </tr>\n",
       "    <tr>\n",
       "      <th>4</th>\n",
       "      <td>1</td>\n",
       "      <td>1</td>\n",
       "      <td>2010-03-05</td>\n",
       "      <td>21827.90</td>\n",
       "      <td>False</td>\n",
       "    </tr>\n",
       "  </tbody>\n",
       "</table>\n",
       "</div>"
      ],
      "text/plain": [
       "   Store  Dept        Date  Weekly_Sales  IsHoliday\n",
       "0      1     1  2010-02-05      24924.50      False\n",
       "1      1     1  2010-02-12      46039.49       True\n",
       "2      1     1  2010-02-19      41595.55      False\n",
       "3      1     1  2010-02-26      19403.54      False\n",
       "4      1     1  2010-03-05      21827.90      False"
      ]
     },
     "execution_count": 52,
     "metadata": {},
     "output_type": "execute_result"
    }
   ],
   "source": [
    "df2 = pd.read_csv('./Datasets/Walmart_Sales_Forecasting.csv')\n",
    "print(len(df2))\n",
    "df2.head()\n"
   ]
  },
  {
   "cell_type": "code",
   "execution_count": 53,
   "metadata": {},
   "outputs": [
    {
     "data": {
      "text/html": [
       "<div>\n",
       "<style scoped>\n",
       "    .dataframe tbody tr th:only-of-type {\n",
       "        vertical-align: middle;\n",
       "    }\n",
       "\n",
       "    .dataframe tbody tr th {\n",
       "        vertical-align: top;\n",
       "    }\n",
       "\n",
       "    .dataframe thead th {\n",
       "        text-align: right;\n",
       "    }\n",
       "</style>\n",
       "<table border=\"1\" class=\"dataframe\">\n",
       "  <thead>\n",
       "    <tr style=\"text-align: right;\">\n",
       "      <th></th>\n",
       "      <th>Store</th>\n",
       "      <th>Date</th>\n",
       "      <th>Temperature</th>\n",
       "      <th>Fuel_Price</th>\n",
       "      <th>MarkDown1</th>\n",
       "      <th>MarkDown2</th>\n",
       "      <th>MarkDown3</th>\n",
       "      <th>MarkDown4</th>\n",
       "      <th>MarkDown5</th>\n",
       "      <th>CPI</th>\n",
       "      <th>Unemployment</th>\n",
       "      <th>IsHoliday_x</th>\n",
       "      <th>Dept</th>\n",
       "      <th>Weekly_Sales</th>\n",
       "      <th>IsHoliday_y</th>\n",
       "    </tr>\n",
       "  </thead>\n",
       "  <tbody>\n",
       "    <tr>\n",
       "      <th>0</th>\n",
       "      <td>1</td>\n",
       "      <td>2010-02-05</td>\n",
       "      <td>42.31</td>\n",
       "      <td>2.572</td>\n",
       "      <td>NaN</td>\n",
       "      <td>NaN</td>\n",
       "      <td>NaN</td>\n",
       "      <td>NaN</td>\n",
       "      <td>NaN</td>\n",
       "      <td>211.096358</td>\n",
       "      <td>8.106</td>\n",
       "      <td>False</td>\n",
       "      <td>1</td>\n",
       "      <td>24924.50</td>\n",
       "      <td>False</td>\n",
       "    </tr>\n",
       "    <tr>\n",
       "      <th>1</th>\n",
       "      <td>1</td>\n",
       "      <td>2010-02-05</td>\n",
       "      <td>42.31</td>\n",
       "      <td>2.572</td>\n",
       "      <td>NaN</td>\n",
       "      <td>NaN</td>\n",
       "      <td>NaN</td>\n",
       "      <td>NaN</td>\n",
       "      <td>NaN</td>\n",
       "      <td>211.096358</td>\n",
       "      <td>8.106</td>\n",
       "      <td>False</td>\n",
       "      <td>2</td>\n",
       "      <td>50605.27</td>\n",
       "      <td>False</td>\n",
       "    </tr>\n",
       "    <tr>\n",
       "      <th>2</th>\n",
       "      <td>1</td>\n",
       "      <td>2010-02-05</td>\n",
       "      <td>42.31</td>\n",
       "      <td>2.572</td>\n",
       "      <td>NaN</td>\n",
       "      <td>NaN</td>\n",
       "      <td>NaN</td>\n",
       "      <td>NaN</td>\n",
       "      <td>NaN</td>\n",
       "      <td>211.096358</td>\n",
       "      <td>8.106</td>\n",
       "      <td>False</td>\n",
       "      <td>3</td>\n",
       "      <td>13740.12</td>\n",
       "      <td>False</td>\n",
       "    </tr>\n",
       "    <tr>\n",
       "      <th>3</th>\n",
       "      <td>1</td>\n",
       "      <td>2010-02-05</td>\n",
       "      <td>42.31</td>\n",
       "      <td>2.572</td>\n",
       "      <td>NaN</td>\n",
       "      <td>NaN</td>\n",
       "      <td>NaN</td>\n",
       "      <td>NaN</td>\n",
       "      <td>NaN</td>\n",
       "      <td>211.096358</td>\n",
       "      <td>8.106</td>\n",
       "      <td>False</td>\n",
       "      <td>4</td>\n",
       "      <td>39954.04</td>\n",
       "      <td>False</td>\n",
       "    </tr>\n",
       "    <tr>\n",
       "      <th>4</th>\n",
       "      <td>1</td>\n",
       "      <td>2010-02-05</td>\n",
       "      <td>42.31</td>\n",
       "      <td>2.572</td>\n",
       "      <td>NaN</td>\n",
       "      <td>NaN</td>\n",
       "      <td>NaN</td>\n",
       "      <td>NaN</td>\n",
       "      <td>NaN</td>\n",
       "      <td>211.096358</td>\n",
       "      <td>8.106</td>\n",
       "      <td>False</td>\n",
       "      <td>5</td>\n",
       "      <td>32229.38</td>\n",
       "      <td>False</td>\n",
       "    </tr>\n",
       "  </tbody>\n",
       "</table>\n",
       "</div>"
      ],
      "text/plain": [
       "   Store        Date  Temperature  Fuel_Price  MarkDown1  MarkDown2  \\\n",
       "0      1  2010-02-05        42.31       2.572        NaN        NaN   \n",
       "1      1  2010-02-05        42.31       2.572        NaN        NaN   \n",
       "2      1  2010-02-05        42.31       2.572        NaN        NaN   \n",
       "3      1  2010-02-05        42.31       2.572        NaN        NaN   \n",
       "4      1  2010-02-05        42.31       2.572        NaN        NaN   \n",
       "\n",
       "   MarkDown3  MarkDown4  MarkDown5         CPI  Unemployment  IsHoliday_x  \\\n",
       "0        NaN        NaN        NaN  211.096358         8.106        False   \n",
       "1        NaN        NaN        NaN  211.096358         8.106        False   \n",
       "2        NaN        NaN        NaN  211.096358         8.106        False   \n",
       "3        NaN        NaN        NaN  211.096358         8.106        False   \n",
       "4        NaN        NaN        NaN  211.096358         8.106        False   \n",
       "\n",
       "   Dept  Weekly_Sales  IsHoliday_y  \n",
       "0     1      24924.50        False  \n",
       "1     2      50605.27        False  \n",
       "2     3      13740.12        False  \n",
       "3     4      39954.04        False  \n",
       "4     5      32229.38        False  "
      ]
     },
     "execution_count": 53,
     "metadata": {},
     "output_type": "execute_result"
    }
   ],
   "source": [
    "\n",
    "final = pd.merge(df1, df2, on=['Store', 'Date',]) #which two dataframes to combine, and what columns to merge data in on.\n",
    "final.head()\n",
    "\n"
   ]
  },
  {
   "cell_type": "code",
   "execution_count": 54,
   "metadata": {},
   "outputs": [],
   "source": [
    "\n",
    "final=final.dropna()"
   ]
  },
  {
   "cell_type": "code",
   "execution_count": 55,
   "metadata": {},
   "outputs": [
    {
     "data": {
      "text/html": [
       "<div>\n",
       "<style scoped>\n",
       "    .dataframe tbody tr th:only-of-type {\n",
       "        vertical-align: middle;\n",
       "    }\n",
       "\n",
       "    .dataframe tbody tr th {\n",
       "        vertical-align: top;\n",
       "    }\n",
       "\n",
       "    .dataframe thead th {\n",
       "        text-align: right;\n",
       "    }\n",
       "</style>\n",
       "<table border=\"1\" class=\"dataframe\">\n",
       "  <thead>\n",
       "    <tr style=\"text-align: right;\">\n",
       "      <th></th>\n",
       "      <th>Store</th>\n",
       "      <th>Date</th>\n",
       "      <th>Temperature</th>\n",
       "      <th>Fuel_Price</th>\n",
       "      <th>MarkDown1</th>\n",
       "      <th>MarkDown2</th>\n",
       "      <th>MarkDown3</th>\n",
       "      <th>MarkDown4</th>\n",
       "      <th>MarkDown5</th>\n",
       "      <th>CPI</th>\n",
       "      <th>Unemployment</th>\n",
       "      <th>IsHoliday_x</th>\n",
       "      <th>Dept</th>\n",
       "      <th>Weekly_Sales</th>\n",
       "      <th>IsHoliday_y</th>\n",
       "    </tr>\n",
       "  </thead>\n",
       "  <tbody>\n",
       "    <tr>\n",
       "      <th>6587</th>\n",
       "      <td>1</td>\n",
       "      <td>2011-11-11</td>\n",
       "      <td>59.11</td>\n",
       "      <td>3.297</td>\n",
       "      <td>10382.9</td>\n",
       "      <td>6115.67</td>\n",
       "      <td>215.07</td>\n",
       "      <td>2406.62</td>\n",
       "      <td>6551.42</td>\n",
       "      <td>217.998085</td>\n",
       "      <td>7.866</td>\n",
       "      <td>False</td>\n",
       "      <td>1</td>\n",
       "      <td>18689.54</td>\n",
       "      <td>False</td>\n",
       "    </tr>\n",
       "    <tr>\n",
       "      <th>6588</th>\n",
       "      <td>1</td>\n",
       "      <td>2011-11-11</td>\n",
       "      <td>59.11</td>\n",
       "      <td>3.297</td>\n",
       "      <td>10382.9</td>\n",
       "      <td>6115.67</td>\n",
       "      <td>215.07</td>\n",
       "      <td>2406.62</td>\n",
       "      <td>6551.42</td>\n",
       "      <td>217.998085</td>\n",
       "      <td>7.866</td>\n",
       "      <td>False</td>\n",
       "      <td>2</td>\n",
       "      <td>44936.47</td>\n",
       "      <td>False</td>\n",
       "    </tr>\n",
       "    <tr>\n",
       "      <th>6589</th>\n",
       "      <td>1</td>\n",
       "      <td>2011-11-11</td>\n",
       "      <td>59.11</td>\n",
       "      <td>3.297</td>\n",
       "      <td>10382.9</td>\n",
       "      <td>6115.67</td>\n",
       "      <td>215.07</td>\n",
       "      <td>2406.62</td>\n",
       "      <td>6551.42</td>\n",
       "      <td>217.998085</td>\n",
       "      <td>7.866</td>\n",
       "      <td>False</td>\n",
       "      <td>3</td>\n",
       "      <td>9959.64</td>\n",
       "      <td>False</td>\n",
       "    </tr>\n",
       "    <tr>\n",
       "      <th>6590</th>\n",
       "      <td>1</td>\n",
       "      <td>2011-11-11</td>\n",
       "      <td>59.11</td>\n",
       "      <td>3.297</td>\n",
       "      <td>10382.9</td>\n",
       "      <td>6115.67</td>\n",
       "      <td>215.07</td>\n",
       "      <td>2406.62</td>\n",
       "      <td>6551.42</td>\n",
       "      <td>217.998085</td>\n",
       "      <td>7.866</td>\n",
       "      <td>False</td>\n",
       "      <td>4</td>\n",
       "      <td>36826.52</td>\n",
       "      <td>False</td>\n",
       "    </tr>\n",
       "    <tr>\n",
       "      <th>6591</th>\n",
       "      <td>1</td>\n",
       "      <td>2011-11-11</td>\n",
       "      <td>59.11</td>\n",
       "      <td>3.297</td>\n",
       "      <td>10382.9</td>\n",
       "      <td>6115.67</td>\n",
       "      <td>215.07</td>\n",
       "      <td>2406.62</td>\n",
       "      <td>6551.42</td>\n",
       "      <td>217.998085</td>\n",
       "      <td>7.866</td>\n",
       "      <td>False</td>\n",
       "      <td>5</td>\n",
       "      <td>31002.65</td>\n",
       "      <td>False</td>\n",
       "    </tr>\n",
       "  </tbody>\n",
       "</table>\n",
       "</div>"
      ],
      "text/plain": [
       "      Store        Date  Temperature  Fuel_Price  MarkDown1  MarkDown2  \\\n",
       "6587      1  2011-11-11        59.11       3.297    10382.9    6115.67   \n",
       "6588      1  2011-11-11        59.11       3.297    10382.9    6115.67   \n",
       "6589      1  2011-11-11        59.11       3.297    10382.9    6115.67   \n",
       "6590      1  2011-11-11        59.11       3.297    10382.9    6115.67   \n",
       "6591      1  2011-11-11        59.11       3.297    10382.9    6115.67   \n",
       "\n",
       "      MarkDown3  MarkDown4  MarkDown5         CPI  Unemployment  IsHoliday_x  \\\n",
       "6587     215.07    2406.62    6551.42  217.998085         7.866        False   \n",
       "6588     215.07    2406.62    6551.42  217.998085         7.866        False   \n",
       "6589     215.07    2406.62    6551.42  217.998085         7.866        False   \n",
       "6590     215.07    2406.62    6551.42  217.998085         7.866        False   \n",
       "6591     215.07    2406.62    6551.42  217.998085         7.866        False   \n",
       "\n",
       "      Dept  Weekly_Sales  IsHoliday_y  \n",
       "6587     1      18689.54        False  \n",
       "6588     2      44936.47        False  \n",
       "6589     3       9959.64        False  \n",
       "6590     4      36826.52        False  \n",
       "6591     5      31002.65        False  "
      ]
     },
     "execution_count": 55,
     "metadata": {},
     "output_type": "execute_result"
    }
   ],
   "source": [
    "final.head()\n"
   ]
  },
  {
   "cell_type": "code",
   "execution_count": null,
   "metadata": {},
   "outputs": [],
   "source": [
    "\n"
   ]
  },
  {
   "cell_type": "code",
   "execution_count": null,
   "metadata": {},
   "outputs": [],
   "source": []
  },
  {
   "cell_type": "markdown",
   "metadata": {},
   "source": [
    "## Exploratory Data Analysis"
   ]
  },
  {
   "cell_type": "code",
   "execution_count": 102,
   "metadata": {},
   "outputs": [
    {
     "name": "stdout",
     "output_type": "stream",
     "text": [
      "Column Names:\n",
      " Index(['Store', 'Date', 'Temperature', 'Fuel_Price', 'MarkDown1', 'MarkDown2',\n",
      "       'MarkDown3', 'MarkDown4', 'MarkDown5', 'CPI', 'Unemployment',\n",
      "       'IsHoliday_x', 'Dept', 'Weekly_Sales', 'IsHoliday_y'],\n",
      "      dtype='object')\n"
     ]
    }
   ],
   "source": [
    "df= final\n",
    "print('Column Names:\\n', df.columns)\n"
   ]
  },
  {
   "cell_type": "code",
   "execution_count": 103,
   "metadata": {},
   "outputs": [
    {
     "data": {
      "text/html": [
       "<div>\n",
       "<style scoped>\n",
       "    .dataframe tbody tr th:only-of-type {\n",
       "        vertical-align: middle;\n",
       "    }\n",
       "\n",
       "    .dataframe tbody tr th {\n",
       "        vertical-align: top;\n",
       "    }\n",
       "\n",
       "    .dataframe thead th {\n",
       "        text-align: right;\n",
       "    }\n",
       "</style>\n",
       "<table border=\"1\" class=\"dataframe\">\n",
       "  <thead>\n",
       "    <tr style=\"text-align: right;\">\n",
       "      <th></th>\n",
       "      <th>Store</th>\n",
       "      <th>Date</th>\n",
       "      <th>Temperature</th>\n",
       "      <th>Fuel_Price</th>\n",
       "      <th>MarkDown1</th>\n",
       "      <th>MarkDown2</th>\n",
       "      <th>MarkDown3</th>\n",
       "      <th>MarkDown4</th>\n",
       "      <th>MarkDown5</th>\n",
       "      <th>CPI</th>\n",
       "      <th>Unemployment</th>\n",
       "      <th>IsHoliday_x</th>\n",
       "      <th>Dept</th>\n",
       "      <th>Weekly_Sales</th>\n",
       "      <th>IsHoliday_y</th>\n",
       "    </tr>\n",
       "  </thead>\n",
       "  <tbody>\n",
       "    <tr>\n",
       "      <th>count</th>\n",
       "      <td>97056.000000</td>\n",
       "      <td>97056</td>\n",
       "      <td>97056.000000</td>\n",
       "      <td>97056.000000</td>\n",
       "      <td>97056.000000</td>\n",
       "      <td>97056.000000</td>\n",
       "      <td>97056.000000</td>\n",
       "      <td>97056.000000</td>\n",
       "      <td>97056.000000</td>\n",
       "      <td>97056.000000</td>\n",
       "      <td>97056.000000</td>\n",
       "      <td>97056</td>\n",
       "      <td>97056.000000</td>\n",
       "      <td>97056.000000</td>\n",
       "      <td>97056</td>\n",
       "    </tr>\n",
       "    <tr>\n",
       "      <th>unique</th>\n",
       "      <td>NaN</td>\n",
       "      <td>48</td>\n",
       "      <td>NaN</td>\n",
       "      <td>NaN</td>\n",
       "      <td>NaN</td>\n",
       "      <td>NaN</td>\n",
       "      <td>NaN</td>\n",
       "      <td>NaN</td>\n",
       "      <td>NaN</td>\n",
       "      <td>NaN</td>\n",
       "      <td>NaN</td>\n",
       "      <td>2</td>\n",
       "      <td>NaN</td>\n",
       "      <td>NaN</td>\n",
       "      <td>2</td>\n",
       "    </tr>\n",
       "    <tr>\n",
       "      <th>top</th>\n",
       "      <td>NaN</td>\n",
       "      <td>2012-02-03</td>\n",
       "      <td>NaN</td>\n",
       "      <td>NaN</td>\n",
       "      <td>NaN</td>\n",
       "      <td>NaN</td>\n",
       "      <td>NaN</td>\n",
       "      <td>NaN</td>\n",
       "      <td>NaN</td>\n",
       "      <td>NaN</td>\n",
       "      <td>NaN</td>\n",
       "      <td>False</td>\n",
       "      <td>NaN</td>\n",
       "      <td>NaN</td>\n",
       "      <td>False</td>\n",
       "    </tr>\n",
       "    <tr>\n",
       "      <th>freq</th>\n",
       "      <td>NaN</td>\n",
       "      <td>2883</td>\n",
       "      <td>NaN</td>\n",
       "      <td>NaN</td>\n",
       "      <td>NaN</td>\n",
       "      <td>NaN</td>\n",
       "      <td>NaN</td>\n",
       "      <td>NaN</td>\n",
       "      <td>NaN</td>\n",
       "      <td>NaN</td>\n",
       "      <td>NaN</td>\n",
       "      <td>87064</td>\n",
       "      <td>NaN</td>\n",
       "      <td>NaN</td>\n",
       "      <td>87064</td>\n",
       "    </tr>\n",
       "    <tr>\n",
       "      <th>mean</th>\n",
       "      <td>20.239408</td>\n",
       "      <td>NaN</td>\n",
       "      <td>57.348331</td>\n",
       "      <td>3.618946</td>\n",
       "      <td>8841.260245</td>\n",
       "      <td>3693.532392</td>\n",
       "      <td>1816.629491</td>\n",
       "      <td>4025.923108</td>\n",
       "      <td>5310.830581</td>\n",
       "      <td>174.766754</td>\n",
       "      <td>7.414578</td>\n",
       "      <td>NaN</td>\n",
       "      <td>44.278746</td>\n",
       "      <td>17857.195155</td>\n",
       "      <td>NaN</td>\n",
       "    </tr>\n",
       "    <tr>\n",
       "      <th>std</th>\n",
       "      <td>12.037946</td>\n",
       "      <td>NaN</td>\n",
       "      <td>18.263734</td>\n",
       "      <td>0.280003</td>\n",
       "      <td>9258.091154</td>\n",
       "      <td>10058.901796</td>\n",
       "      <td>10989.284083</td>\n",
       "      <td>7173.060535</td>\n",
       "      <td>6535.397883</td>\n",
       "      <td>39.652638</td>\n",
       "      <td>1.708319</td>\n",
       "      <td>NaN</td>\n",
       "      <td>30.119460</td>\n",
       "      <td>24732.104674</td>\n",
       "      <td>NaN</td>\n",
       "    </tr>\n",
       "    <tr>\n",
       "      <th>min</th>\n",
       "      <td>1.000000</td>\n",
       "      <td>NaN</td>\n",
       "      <td>7.460000</td>\n",
       "      <td>3.031000</td>\n",
       "      <td>32.500000</td>\n",
       "      <td>-265.760000</td>\n",
       "      <td>-29.100000</td>\n",
       "      <td>0.460000</td>\n",
       "      <td>170.640000</td>\n",
       "      <td>129.816710</td>\n",
       "      <td>4.077000</td>\n",
       "      <td>NaN</td>\n",
       "      <td>1.000000</td>\n",
       "      <td>-1699.000000</td>\n",
       "      <td>NaN</td>\n",
       "    </tr>\n",
       "    <tr>\n",
       "      <th>25%</th>\n",
       "      <td>10.000000</td>\n",
       "      <td>NaN</td>\n",
       "      <td>42.750000</td>\n",
       "      <td>3.413000</td>\n",
       "      <td>3600.790000</td>\n",
       "      <td>47.550000</td>\n",
       "      <td>5.400000</td>\n",
       "      <td>605.880000</td>\n",
       "      <td>2383.670000</td>\n",
       "      <td>136.856419</td>\n",
       "      <td>6.392000</td>\n",
       "      <td>NaN</td>\n",
       "      <td>19.000000</td>\n",
       "      <td>2763.892500</td>\n",
       "      <td>NaN</td>\n",
       "    </tr>\n",
       "    <tr>\n",
       "      <th>50%</th>\n",
       "      <td>20.000000</td>\n",
       "      <td>NaN</td>\n",
       "      <td>57.950000</td>\n",
       "      <td>3.630000</td>\n",
       "      <td>6264.180000</td>\n",
       "      <td>192.000000</td>\n",
       "      <td>30.460000</td>\n",
       "      <td>1739.830000</td>\n",
       "      <td>3864.600000</td>\n",
       "      <td>189.194056</td>\n",
       "      <td>7.280000</td>\n",
       "      <td>NaN</td>\n",
       "      <td>37.000000</td>\n",
       "      <td>8622.160000</td>\n",
       "      <td>NaN</td>\n",
       "    </tr>\n",
       "    <tr>\n",
       "      <th>75%</th>\n",
       "      <td>29.000000</td>\n",
       "      <td>NaN</td>\n",
       "      <td>72.660000</td>\n",
       "      <td>3.820000</td>\n",
       "      <td>10333.240000</td>\n",
       "      <td>2551.320000</td>\n",
       "      <td>123.420000</td>\n",
       "      <td>4082.990000</td>\n",
       "      <td>6197.530000</td>\n",
       "      <td>219.355063</td>\n",
       "      <td>8.256000</td>\n",
       "      <td>NaN</td>\n",
       "      <td>72.000000</td>\n",
       "      <td>22740.542500</td>\n",
       "      <td>NaN</td>\n",
       "    </tr>\n",
       "    <tr>\n",
       "      <th>max</th>\n",
       "      <td>45.000000</td>\n",
       "      <td>NaN</td>\n",
       "      <td>95.910000</td>\n",
       "      <td>4.301000</td>\n",
       "      <td>88646.760000</td>\n",
       "      <td>104519.540000</td>\n",
       "      <td>141630.610000</td>\n",
       "      <td>67474.850000</td>\n",
       "      <td>108519.280000</td>\n",
       "      <td>227.036936</td>\n",
       "      <td>12.890000</td>\n",
       "      <td>NaN</td>\n",
       "      <td>99.000000</td>\n",
       "      <td>630999.190000</td>\n",
       "      <td>NaN</td>\n",
       "    </tr>\n",
       "  </tbody>\n",
       "</table>\n",
       "</div>"
      ],
      "text/plain": [
       "               Store        Date   Temperature    Fuel_Price     MarkDown1  \\\n",
       "count   97056.000000       97056  97056.000000  97056.000000  97056.000000   \n",
       "unique           NaN          48           NaN           NaN           NaN   \n",
       "top              NaN  2012-02-03           NaN           NaN           NaN   \n",
       "freq             NaN        2883           NaN           NaN           NaN   \n",
       "mean       20.239408         NaN     57.348331      3.618946   8841.260245   \n",
       "std        12.037946         NaN     18.263734      0.280003   9258.091154   \n",
       "min         1.000000         NaN      7.460000      3.031000     32.500000   \n",
       "25%        10.000000         NaN     42.750000      3.413000   3600.790000   \n",
       "50%        20.000000         NaN     57.950000      3.630000   6264.180000   \n",
       "75%        29.000000         NaN     72.660000      3.820000  10333.240000   \n",
       "max        45.000000         NaN     95.910000      4.301000  88646.760000   \n",
       "\n",
       "            MarkDown2      MarkDown3     MarkDown4      MarkDown5  \\\n",
       "count    97056.000000   97056.000000  97056.000000   97056.000000   \n",
       "unique            NaN            NaN           NaN            NaN   \n",
       "top               NaN            NaN           NaN            NaN   \n",
       "freq              NaN            NaN           NaN            NaN   \n",
       "mean      3693.532392    1816.629491   4025.923108    5310.830581   \n",
       "std      10058.901796   10989.284083   7173.060535    6535.397883   \n",
       "min       -265.760000     -29.100000      0.460000     170.640000   \n",
       "25%         47.550000       5.400000    605.880000    2383.670000   \n",
       "50%        192.000000      30.460000   1739.830000    3864.600000   \n",
       "75%       2551.320000     123.420000   4082.990000    6197.530000   \n",
       "max     104519.540000  141630.610000  67474.850000  108519.280000   \n",
       "\n",
       "                 CPI  Unemployment IsHoliday_x          Dept   Weekly_Sales  \\\n",
       "count   97056.000000  97056.000000       97056  97056.000000   97056.000000   \n",
       "unique           NaN           NaN           2           NaN            NaN   \n",
       "top              NaN           NaN       False           NaN            NaN   \n",
       "freq             NaN           NaN       87064           NaN            NaN   \n",
       "mean      174.766754      7.414578         NaN     44.278746   17857.195155   \n",
       "std        39.652638      1.708319         NaN     30.119460   24732.104674   \n",
       "min       129.816710      4.077000         NaN      1.000000   -1699.000000   \n",
       "25%       136.856419      6.392000         NaN     19.000000    2763.892500   \n",
       "50%       189.194056      7.280000         NaN     37.000000    8622.160000   \n",
       "75%       219.355063      8.256000         NaN     72.000000   22740.542500   \n",
       "max       227.036936     12.890000         NaN     99.000000  630999.190000   \n",
       "\n",
       "       IsHoliday_y  \n",
       "count        97056  \n",
       "unique           2  \n",
       "top          False  \n",
       "freq         87064  \n",
       "mean           NaN  \n",
       "std            NaN  \n",
       "min            NaN  \n",
       "25%            NaN  \n",
       "50%            NaN  \n",
       "75%            NaN  \n",
       "max            NaN  "
      ]
     },
     "execution_count": 103,
     "metadata": {},
     "output_type": "execute_result"
    }
   ],
   "source": [
    "#lets look at the data\n",
    "df.describe(include=\"all\")"
   ]
  },
  {
   "cell_type": "code",
   "execution_count": 57,
   "metadata": {},
   "outputs": [
    {
     "data": {
      "text/plain": [
       "<matplotlib.axes._subplots.AxesSubplot at 0x2a781b54908>"
      ]
     },
     "execution_count": 57,
     "metadata": {},
     "output_type": "execute_result"
    },
    {
     "data": {
      "image/png": "[encoded data removed]",
      "text/plain": [
       "<Figure size 720x576 with 1 Axes>"
      ]
     },
     "metadata": {
      "needs_background": "light"
     },
     "output_type": "display_data"
    }
   ],
   "source": [
    "df.groupby('Dept')['Weekly_Sales'].sum().sort_values().head().plot(kind='barh',figsize=(10,8))\n",
    "\n",
    "\n"
   ]
  },
  {
   "cell_type": "code",
   "execution_count": 58,
   "metadata": {},
   "outputs": [
    {
     "data": {
      "text/plain": [
       "Store             int64\n",
       "Date             object\n",
       "Temperature     float64\n",
       "Fuel_Price      float64\n",
       "MarkDown1       float64\n",
       "MarkDown2       float64\n",
       "MarkDown3       float64\n",
       "MarkDown4       float64\n",
       "MarkDown5       float64\n",
       "CPI             float64\n",
       "Unemployment    float64\n",
       "IsHoliday_x        bool\n",
       "Dept              int64\n",
       "Weekly_Sales    float64\n",
       "IsHoliday_y        bool\n",
       "dtype: object"
      ]
     },
     "execution_count": 58,
     "metadata": {},
     "output_type": "execute_result"
    }
   ],
   "source": [
    "# this is to look up the types\n",
    "df.dtypes"
   ]
  },
  {
   "cell_type": "code",
   "execution_count": 59,
   "metadata": {},
   "outputs": [
    {
     "data": {
      "text/plain": [
       "6587   2011-11-11\n",
       "6588   2011-11-11\n",
       "6589   2011-11-11\n",
       "6590   2011-11-11\n",
       "6591   2011-11-11\n",
       "Name: Date, dtype: datetime64[ns]"
      ]
     },
     "execution_count": 59,
     "metadata": {},
     "output_type": "execute_result"
    }
   ],
   "source": [
    "#make dates a date type not object \n",
    "pd.to_datetime(df.Date).head()\n"
   ]
  },
  {
   "cell_type": "code",
   "execution_count": 60,
   "metadata": {},
   "outputs": [
    {
     "data": {
      "text/html": [
       "<div>\n",
       "<style scoped>\n",
       "    .dataframe tbody tr th:only-of-type {\n",
       "        vertical-align: middle;\n",
       "    }\n",
       "\n",
       "    .dataframe tbody tr th {\n",
       "        vertical-align: top;\n",
       "    }\n",
       "\n",
       "    .dataframe thead th {\n",
       "        text-align: right;\n",
       "    }\n",
       "</style>\n",
       "<table border=\"1\" class=\"dataframe\">\n",
       "  <thead>\n",
       "    <tr style=\"text-align: right;\">\n",
       "      <th></th>\n",
       "      <th>Store</th>\n",
       "      <th>Date</th>\n",
       "      <th>Temperature</th>\n",
       "      <th>Fuel_Price</th>\n",
       "      <th>MarkDown1</th>\n",
       "      <th>MarkDown2</th>\n",
       "      <th>MarkDown3</th>\n",
       "      <th>MarkDown4</th>\n",
       "      <th>MarkDown5</th>\n",
       "      <th>CPI</th>\n",
       "      <th>Unemployment</th>\n",
       "      <th>IsHoliday_x</th>\n",
       "      <th>Dept</th>\n",
       "      <th>Weekly_Sales</th>\n",
       "      <th>IsHoliday_y</th>\n",
       "    </tr>\n",
       "  </thead>\n",
       "  <tbody>\n",
       "  </tbody>\n",
       "</table>\n",
       "</div>"
      ],
      "text/plain": [
       "Empty DataFrame\n",
       "Columns: [Store, Date, Temperature, Fuel_Price, MarkDown1, MarkDown2, MarkDown3, MarkDown4, MarkDown5, CPI, Unemployment, IsHoliday_x, Dept, Weekly_Sales, IsHoliday_y]\n",
       "Index: []"
      ]
     },
     "execution_count": 60,
     "metadata": {},
     "output_type": "execute_result"
    }
   ],
   "source": [
    "#filter a col (its .loc[]) then filter out the dates to what I want\n",
    "#to do this\n",
    "df.loc[\n",
    "    \n",
    "    #select date col\n",
    "    df[\"Date\"]<=\"2011-01-01\" \n",
    "]"
   ]
  },
  {
   "cell_type": "code",
   "execution_count": null,
   "metadata": {},
   "outputs": [],
   "source": []
  },
  {
   "cell_type": "code",
   "execution_count": null,
   "metadata": {},
   "outputs": [],
   "source": []
  },
  {
   "cell_type": "code",
   "execution_count": null,
   "metadata": {},
   "outputs": [],
   "source": []
  },
  {
   "cell_type": "code",
   "execution_count": 61,
   "metadata": {},
   "outputs": [
    {
     "name": "stderr",
     "output_type": "stream",
     "text": [
      "C:\\Users\\fogelrac\\AppData\\Local\\Continuum\\anaconda3\\anaconda3.7\\lib\\site-packages\\plotnine\\utils.py:281: FutureWarning: Method .as_matrix will be removed in a future version. Use .values instead.\n",
      "  ndistinct = ids.apply(len_unique, axis=0).as_matrix()\n",
      "C:\\Users\\fogelrac\\AppData\\Local\\Continuum\\anaconda3\\anaconda3.7\\lib\\site-packages\\pandas\\core\\generic.py:4388: FutureWarning: Attribute 'is_copy' is deprecated and will be removed in a future version.\n",
      "  object.__getattribute__(self, name)\n",
      "C:\\Users\\fogelrac\\AppData\\Local\\Continuum\\anaconda3\\anaconda3.7\\lib\\site-packages\\pandas\\core\\generic.py:4389: FutureWarning: Attribute 'is_copy' is deprecated and will be removed in a future version.\n",
      "  return object.__setattr__(self, name, value)\n",
      "C:\\Users\\fogelrac\\AppData\\Local\\Continuum\\anaconda3\\anaconda3.7\\lib\\site-packages\\plotnine\\positions\\position.py:188: FutureWarning: Method .as_matrix will be removed in a future version. Use .values instead.\n",
      "  intervals = data[xminmax].drop_duplicates().as_matrix().flatten()\n"
     ]
    },
    {
     "data": {
      "image/png": "[encoded data removed]",
      "text/plain": [
       "<Figure size 640x480 with 1 Axes>"
      ]
     },
     "metadata": {},
     "output_type": "display_data"
    },
    {
     "data": {
      "text/plain": [
       "<ggplot: (-9223371854448940954)>"
      ]
     },
     "execution_count": 61,
     "metadata": {},
     "output_type": "execute_result"
    }
   ],
   "source": [
    "# pretty but doesnt say a lot\n",
    "\n",
    "my_plot=df.groupby([\"Dept\", 'Date']).count()[[\"Store\"]]\n",
    "\n",
    "my_plot.reset_index(inplace= True)\n",
    "\n",
    "my_plot#Your code here\n",
    "\n",
    "(ggplot(my_plot, aes(x='Date', y='Store', fill='Dept'))\n",
    " + geom_col()\n",
    ")"
   ]
  },
  {
   "cell_type": "code",
   "execution_count": 62,
   "metadata": {},
   "outputs": [
    {
     "name": "stderr",
     "output_type": "stream",
     "text": [
      "C:\\Users\\fogelrac\\AppData\\Local\\Continuum\\anaconda3\\anaconda3.7\\lib\\site-packages\\plotnine\\utils.py:281: FutureWarning: Method .as_matrix will be removed in a future version. Use .values instead.\n",
      "  ndistinct = ids.apply(len_unique, axis=0).as_matrix()\n",
      "C:\\Users\\fogelrac\\AppData\\Local\\Continuum\\anaconda3\\anaconda3.7\\lib\\site-packages\\pandas\\core\\generic.py:4388: FutureWarning: Attribute 'is_copy' is deprecated and will be removed in a future version.\n",
      "  object.__getattribute__(self, name)\n",
      "C:\\Users\\fogelrac\\AppData\\Local\\Continuum\\anaconda3\\anaconda3.7\\lib\\site-packages\\pandas\\core\\generic.py:4389: FutureWarning: Attribute 'is_copy' is deprecated and will be removed in a future version.\n",
      "  return object.__setattr__(self, name, value)\n",
      "C:\\Users\\fogelrac\\AppData\\Local\\Continuum\\anaconda3\\anaconda3.7\\lib\\site-packages\\plotnine\\positions\\position.py:188: FutureWarning: Method .as_matrix will be removed in a future version. Use .values instead.\n",
      "  intervals = data[xminmax].drop_duplicates().as_matrix().flatten()\n"
     ]
    },
    {
     "data": {
      "image/png": "[encoded data removed]",
      "text/plain": [
       "<Figure size 640x480 with 1 Axes>"
      ]
     },
     "metadata": {},
     "output_type": "display_data"
    },
    {
     "data": {
      "text/plain": [
       "<ggplot: (-9223371854451086862)>"
      ]
     },
     "execution_count": 62,
     "metadata": {},
     "output_type": "execute_result"
    }
   ],
   "source": [
    "my_plot=df.groupby([\"Fuel_Price\", 'IsHoliday_x']).count()[[\"Dept\"]]\n",
    "\n",
    "my_plot.reset_index(inplace= True)\n",
    "\n",
    "my_plot#Your code here\n",
    "\n",
    "(ggplot(my_plot, aes(x='IsHoliday_x', y='Dept', fill='Fuel_Price'))\n",
    " + geom_col()\n",
    ")\n",
    "\n",
    "# pretty but doesnt say a lot\n"
   ]
  },
  {
   "cell_type": "code",
   "execution_count": 63,
   "metadata": {},
   "outputs": [
    {
     "data": {
      "text/plain": [
       "<matplotlib.axes._subplots.AxesSubplot at 0x2a7824d1668>"
      ]
     },
     "execution_count": 63,
     "metadata": {},
     "output_type": "execute_result"
    },
    {
     "data": {
      "image/png": "[encoded data removed]",
      "text/plain": [
       "<Figure size 432x288 with 1 Axes>"
      ]
     },
     "metadata": {
      "needs_background": "light"
     },
     "output_type": "display_data"
    }
   ],
   "source": [
    "df.groupby('IsHoliday_x').mean()[\"MarkDown1\"].plot(kind=\"barh\")\n"
   ]
  },
  {
   "cell_type": "code",
   "execution_count": null,
   "metadata": {},
   "outputs": [],
   "source": []
  },
  {
   "cell_type": "code",
   "execution_count": null,
   "metadata": {},
   "outputs": [],
   "source": []
  },
  {
   "cell_type": "code",
   "execution_count": 64,
   "metadata": {},
   "outputs": [
    {
     "data": {
      "text/plain": [
       "<matplotlib.axes._subplots.AxesSubplot at 0x2a78258cf98>"
      ]
     },
     "execution_count": 64,
     "metadata": {},
     "output_type": "execute_result"
    },
    {
     "data": {
      "image/png": "[encoded data removed]",
      "text/plain": [
       "<Figure size 720x576 with 1 Axes>"
      ]
     },
     "metadata": {
      "needs_background": "light"
     },
     "output_type": "display_data"
    }
   ],
   "source": [
    "df.groupby('Temperature')['Weekly_Sales'].sum().head().plot(kind='line',figsize=(10,8))\n"
   ]
  },
  {
   "cell_type": "code",
   "execution_count": 65,
   "metadata": {},
   "outputs": [
    {
     "data": {
      "text/plain": [
       "<matplotlib.axes._subplots.AxesSubplot at 0x2a782924ba8>"
      ]
     },
     "execution_count": 65,
     "metadata": {},
     "output_type": "execute_result"
    },
    {
     "data": {
      "image/png": "[encoded data removed]",
      "text/plain": [
       "<Figure size 720x576 with 1 Axes>"
      ]
     },
     "metadata": {
      "needs_background": "light"
     },
     "output_type": "display_data"
    }
   ],
   "source": [
    "df.groupby('Fuel_Price')['Weekly_Sales'].sum().head().plot(kind='bar',figsize=(10,8))\n"
   ]
  },
  {
   "cell_type": "code",
   "execution_count": 66,
   "metadata": {},
   "outputs": [
    {
     "name": "stderr",
     "output_type": "stream",
     "text": [
      "C:\\Users\\fogelrac\\AppData\\Local\\Continuum\\anaconda3\\anaconda3.7\\lib\\site-packages\\plotnine\\utils.py:281: FutureWarning: Method .as_matrix will be removed in a future version. Use .values instead.\n",
      "  ndistinct = ids.apply(len_unique, axis=0).as_matrix()\n",
      "C:\\Users\\fogelrac\\AppData\\Local\\Continuum\\anaconda3\\anaconda3.7\\lib\\site-packages\\pandas\\core\\generic.py:4388: FutureWarning: Attribute 'is_copy' is deprecated and will be removed in a future version.\n",
      "  object.__getattribute__(self, name)\n",
      "C:\\Users\\fogelrac\\AppData\\Local\\Continuum\\anaconda3\\anaconda3.7\\lib\\site-packages\\pandas\\core\\generic.py:4389: FutureWarning: Attribute 'is_copy' is deprecated and will be removed in a future version.\n",
      "  return object.__setattr__(self, name, value)\n",
      "C:\\Users\\fogelrac\\AppData\\Local\\Continuum\\anaconda3\\anaconda3.7\\lib\\site-packages\\scipy\\stats\\stats.py:1713: FutureWarning: Using a non-tuple sequence for multidimensional indexing is deprecated; use `arr[tuple(seq)]` instead of `arr[seq]`. In the future this will be interpreted as an array index, `arr[np.array(seq)]`, which will result either in an error or a different result.\n",
      "  return np.add.reduce(sorted[indexer] * weights, axis=axis) / sumval\n"
     ]
    },
    {
     "data": {
      "image/png": "[encoded data removed]",
      "text/plain": [
       "<Figure size 640x480 with 1 Axes>"
      ]
     },
     "metadata": {
      "needs_background": "light"
     },
     "output_type": "display_data"
    },
    {
     "data": {
      "text/plain": [
       "<ggplot: (-9223371854450159395)>"
      ]
     },
     "execution_count": 66,
     "metadata": {},
     "output_type": "execute_result"
    }
   ],
   "source": [
    "plt_df = df.assign(Survived = lambda d: d['IsHoliday_y'].map(bool))\n",
    "(ggplot(plt_df, aes(x='Fuel_Price', color='IsHoliday_y'))\n",
    " + geom_density()\n",
    " + theme_minimal()\n",
    ")\n",
    "\n",
    "#looks like holiday and fuel might be related"
   ]
  },
  {
   "cell_type": "code",
   "execution_count": 67,
   "metadata": {},
   "outputs": [
    {
     "name": "stderr",
     "output_type": "stream",
     "text": [
      "C:\\Users\\fogelrac\\AppData\\Local\\Continuum\\anaconda3\\anaconda3.7\\lib\\site-packages\\plotnine\\utils.py:281: FutureWarning: Method .as_matrix will be removed in a future version. Use .values instead.\n",
      "  ndistinct = ids.apply(len_unique, axis=0).as_matrix()\n",
      "C:\\Users\\fogelrac\\AppData\\Local\\Continuum\\anaconda3\\anaconda3.7\\lib\\site-packages\\pandas\\core\\generic.py:4388: FutureWarning: Attribute 'is_copy' is deprecated and will be removed in a future version.\n",
      "  object.__getattribute__(self, name)\n",
      "C:\\Users\\fogelrac\\AppData\\Local\\Continuum\\anaconda3\\anaconda3.7\\lib\\site-packages\\pandas\\core\\generic.py:4389: FutureWarning: Attribute 'is_copy' is deprecated and will be removed in a future version.\n",
      "  return object.__setattr__(self, name, value)\n",
      "C:\\Users\\fogelrac\\AppData\\Local\\Continuum\\anaconda3\\anaconda3.7\\lib\\site-packages\\plotnine\\positions\\position.py:188: FutureWarning: Method .as_matrix will be removed in a future version. Use .values instead.\n",
      "  intervals = data[xminmax].drop_duplicates().as_matrix().flatten()\n"
     ]
    },
    {
     "data": {
      "image/png": "[encoded data removed]",
      "text/plain": [
       "<Figure size 640x480 with 1 Axes>"
      ]
     },
     "metadata": {
      "needs_background": "light"
     },
     "output_type": "display_data"
    },
    {
     "data": {
      "text/plain": [
       "<ggplot: (182405219876)>"
      ]
     },
     "execution_count": 67,
     "metadata": {},
     "output_type": "execute_result"
    }
   ],
   "source": [
    "plt_df = df.assign(Survived = lambda d: d['IsHoliday_y'].map(bool))\n",
    "(ggplot(plt_df, aes(x='Dept', fill='IsHoliday_y'))\n",
    " + geom_bar()\n",
    " + theme_minimal()\n",
    ")\n",
    "\n",
    "#this is cool but doesn't really mean anything"
   ]
  },
  {
   "cell_type": "code",
   "execution_count": 68,
   "metadata": {},
   "outputs": [
    {
     "data": {
      "text/plain": [
       "<matplotlib.axes._subplots.AxesSubplot at 0x2a783bbbb00>"
      ]
     },
     "execution_count": 68,
     "metadata": {},
     "output_type": "execute_result"
    },
    {
     "data": {
      "image/png": "[encoded data removed]",
      "text/plain": [
       "<Figure size 432x288 with 1 Axes>"
      ]
     },
     "metadata": {
      "needs_background": "light"
     },
     "output_type": "display_data"
    }
   ],
   "source": [
    "df.groupby('IsHoliday_y').mean()[\"Temperature\"].plot(kind=\"bar\")\n"
   ]
  },
  {
   "cell_type": "code",
   "execution_count": null,
   "metadata": {},
   "outputs": [],
   "source": [
    "\n"
   ]
  },
  {
   "cell_type": "code",
   "execution_count": 69,
   "metadata": {},
   "outputs": [
    {
     "data": {
      "text/plain": [
       "<matplotlib.axes._subplots.AxesSubplot at 0x2a7832d7780>"
      ]
     },
     "execution_count": 69,
     "metadata": {},
     "output_type": "execute_result"
    },
    {
     "data": {
      "image/png": "[encoded data removed]",
      "text/plain": [
       "<Figure size 432x288 with 1 Axes>"
      ]
     },
     "metadata": {
      "needs_background": "light"
     },
     "output_type": "display_data"
    }
   ],
   "source": [
    "df.groupby('Temperature').mean()[\"Fuel_Price\"].plot(kind=\"area\")\n"
   ]
  },
  {
   "cell_type": "code",
   "execution_count": 70,
   "metadata": {},
   "outputs": [
    {
     "name": "stdout",
     "output_type": "stream",
     "text": [
      "[[ 1.         -0.00161513]\n",
      " [-0.00161513  1.        ]]\n"
     ]
    },
    {
     "data": {
      "text/plain": [
       "<matplotlib.collections.PathCollection at 0x2a781b50cf8>"
      ]
     },
     "execution_count": 70,
     "metadata": {},
     "output_type": "execute_result"
    },
    {
     "data": {
      "image/png": "[encoded data removed]",
      "text/plain": [
       "<Figure size 432x288 with 1 Axes>"
      ]
     },
     "metadata": {
      "needs_background": "light"
     },
     "output_type": "display_data"
    }
   ],
   "source": [
    "\n",
    "# plots 1st markdown against second\n",
    "x , y = df.MarkDown1, df.MarkDown2\n",
    "print(np.corrcoef(x,y))\n",
    "plt.scatter(x,y)"
   ]
  },
  {
   "cell_type": "code",
   "execution_count": 71,
   "metadata": {},
   "outputs": [
    {
     "name": "stdout",
     "output_type": "stream",
     "text": [
      "[[1.         0.82892769]\n",
      " [0.82892769 1.        ]]\n"
     ]
    },
    {
     "data": {
      "text/plain": [
       "<matplotlib.collections.PathCollection at 0x2a785350160>"
      ]
     },
     "execution_count": 71,
     "metadata": {},
     "output_type": "execute_result"
    },
    {
     "data": {
      "image/png": "[encoded data removed]",
      "text/plain": [
       "<Figure size 432x288 with 1 Axes>"
      ]
     },
     "metadata": {
      "needs_background": "light"
     },
     "output_type": "display_data"
    }
   ],
   "source": [
    "\n",
    "# plots 1st markdown against 4th- a nearly perfect coorlation- may want to take out of model \n",
    "x , y = df.MarkDown1, df.MarkDown4\n",
    "print(np.corrcoef(x,y))\n",
    "plt.scatter(x,y)"
   ]
  },
  {
   "cell_type": "code",
   "execution_count": 72,
   "metadata": {},
   "outputs": [
    {
     "name": "stdout",
     "output_type": "stream",
     "text": [
      "[[1.         0.02947115]\n",
      " [0.02947115 1.        ]]\n"
     ]
    },
    {
     "data": {
      "text/plain": [
       "<matplotlib.collections.PathCollection at 0x2a7847d1828>"
      ]
     },
     "execution_count": 72,
     "metadata": {},
     "output_type": "execute_result"
    },
    {
     "data": {
      "image/png": "[encoded data removed]",
      "text/plain": [
       "<Figure size 432x288 with 1 Axes>"
      ]
     },
     "metadata": {
      "needs_background": "light"
     },
     "output_type": "display_data"
    }
   ],
   "source": [
    "\n",
    "# plots 4th markdown against weekly_sales\n",
    "x , y = df.MarkDown4, df.Weekly_Sales\n",
    "print(np.corrcoef(x,y))\n",
    "plt.scatter(x,y)"
   ]
  },
  {
   "cell_type": "code",
   "execution_count": 73,
   "metadata": {},
   "outputs": [
    {
     "name": "stdout",
     "output_type": "stream",
     "text": [
      "[[1.         0.01302933]\n",
      " [0.01302933 1.        ]]\n"
     ]
    },
    {
     "data": {
      "text/plain": [
       "<matplotlib.collections.PathCollection at 0x2a7853378d0>"
      ]
     },
     "execution_count": 73,
     "metadata": {},
     "output_type": "execute_result"
    },
    {
     "data": {
      "image/png": "[encoded data removed]",
      "text/plain": [
       "<Figure size 432x288 with 1 Axes>"
      ]
     },
     "metadata": {
      "needs_background": "light"
     },
     "output_type": "display_data"
    }
   ],
   "source": [
    "x , y = df.Weekly_Sales, df.Temperature\n",
    "print(np.corrcoef(x,y))\n",
    "plt.scatter(x,y)"
   ]
  },
  {
   "cell_type": "markdown",
   "metadata": {},
   "source": [
    "##  Models/ evaluation"
   ]
  },
  {
   "cell_type": "code",
   "execution_count": 74,
   "metadata": {},
   "outputs": [],
   "source": [
    "from sklearn.model_selection import train_test_split\n",
    "from sklearn.metrics import mean_squared_error\n",
    "from sklearn.linear_model import Ridge, Lasso\n",
    "from sklearn.ensemble import RandomForestRegressor"
   ]
  },
  {
   "cell_type": "code",
   "execution_count": 75,
   "metadata": {},
   "outputs": [
    {
     "name": "stdout",
     "output_type": "stream",
     "text": [
      "Train Mean Squared Error: 24630.50022344427\n",
      "Test Mean Squared Error: 25025.643172993954\n",
      "Model feature coefficients:\n",
      "Temperature Coefficient weight: 17.6439\n"
     ]
    }
   ],
   "source": [
    "#get mean sqaured error comparing Temp and Weekly sales\n",
    "\n",
    "\n",
    "#1) Import packages\n",
    "from sklearn.linear_model import LinearRegression\n",
    "\n",
    "#2) Define X and y\n",
    "\n",
    "my_X_columns = [ 'Temperature', \n",
    "               ]\n",
    "my_y_column = 'Weekly_Sales'\n",
    "X = df[my_X_columns] #Only numeric features work\n",
    "y = df[my_y_column]\n",
    "\n",
    "#3) Initialize a regression object\n",
    "linreg = LinearRegression()\n",
    "\n",
    "# 4) Fit the model\n",
    "linreg.fit(X, y)\n",
    "\n",
    "#define xtrain and x test \n",
    "\n",
    "X_train, X_test, y_train, y_test = train_test_split(X, y, random_state=0)\n",
    "\n",
    "# predicator\n",
    "y_hat_train = linreg.predict(X_train)\n",
    "y_hat_test = linreg.predict(X_test)\n",
    "\n",
    "\n",
    "\n",
    "\n",
    "\n",
    "# 6) Measure performance using mean squared\n",
    "\n",
    "train_mse = np.sqrt(mean_squared_error(y_train, y_hat_train))\n",
    "test_mse = np.sqrt(mean_squared_error(y_test, y_hat_test))\n",
    "\n",
    "print('Train Mean Squared Error:', train_mse)\n",
    "print('Test Mean Squared Error:', test_mse)\n",
    "\n",
    "#Print the coefficients for the model's formula\n",
    "print('Model feature coefficients:')\n",
    "weight_dict = dict(zip(X.columns, linreg.coef_))\n",
    "for feat, coeff in list(zip(X.columns, linreg.coef_)):\n",
    "   print(feat, 'Coefficient weight: {}'.format(round(coeff, 4)))\n"
   ]
  },
  {
   "cell_type": "code",
   "execution_count": 76,
   "metadata": {},
   "outputs": [
    {
     "name": "stdout",
     "output_type": "stream",
     "text": [
      "Train Mean Squared Error: 24353.539025391252\n",
      "Test Mean Squared Error: 24742.467553226947\n",
      "Model feature coefficients:\n",
      "Store Coefficient weight: -98.7044\n",
      "Temperature Coefficient weight: 7.6445\n",
      "Unemployment Coefficient weight: -396.8342\n",
      "Dept Coefficient weight: 113.0\n"
     ]
    }
   ],
   "source": [
    "#add some more x's and use mean squared error and drop na add some more x's\n",
    "\n",
    "df = df.dropna()\n",
    "\n",
    "#1) Import packages\n",
    "from sklearn.linear_model import LinearRegression\n",
    "\n",
    "#2) Define X and y\n",
    "X = df[['Store', 'Temperature', 'Unemployment', 'Dept']] #Only numeric features work\n",
    "\n",
    "y = df['Weekly_Sales']\n",
    "\n",
    "#3) Initialize a regression object\n",
    "linreg = LinearRegression()\n",
    "\n",
    "# 4) Fit the model\n",
    "linreg.fit(X, y)\n",
    "\n",
    "#define xtrain and x test \n",
    "\n",
    "X_train, X_test, y_train, y_test = train_test_split(X, y, random_state=0)\n",
    "\n",
    "# predicator\n",
    "y_hat_train = linreg.predict(X_train)\n",
    "y_hat_test = linreg.predict(X_test)\n",
    "\n",
    "\n",
    "\n",
    "\n",
    "\n",
    "# 6) Measure performance using mean squared\n",
    "\n",
    "train_mse = np.sqrt(mean_squared_error(y_train, y_hat_train))\n",
    "test_mse = np.sqrt(mean_squared_error(y_test, y_hat_test))\n",
    "\n",
    "print('Train Mean Squared Error:', train_mse)\n",
    "print('Test Mean Squared Error:', test_mse)\n",
    "\n",
    "#Print the coefficients for the model's formula\n",
    "print('Model feature coefficients:')\n",
    "weight_dict = dict(zip(X.columns, linreg.coef_))\n",
    "for feat, coeff in list(zip(X.columns, linreg.coef_)):\n",
    "   print(feat, 'Coefficient weight: {}'.format(round(coeff, 4)))\n",
    "\n",
    "\n"
   ]
  },
  {
   "cell_type": "code",
   "execution_count": 77,
   "metadata": {},
   "outputs": [
    {
     "data": {
      "text/plain": [
       "((97056, 4), (97056,))"
      ]
     },
     "execution_count": 77,
     "metadata": {},
     "output_type": "execute_result"
    }
   ],
   "source": [
    "## printing the shape\n",
    "X.shape, y.shape"
   ]
  },
  {
   "cell_type": "code",
   "execution_count": 78,
   "metadata": {},
   "outputs": [
    {
     "name": "stdout",
     "output_type": "stream",
     "text": [
      "Train Mean Squared Error: 24192.77798053246\n",
      "Test Mean Squared Error: 24613.437060410462\n",
      "Model feature coefficients:\n",
      "Store Coefficient weight: -108.0325\n",
      "Temperature Coefficient weight: 39.7291\n",
      "Fuel_Price Coefficient weight: -692.1175\n",
      "MarkDown1 Coefficient weight: 0.1078\n",
      "MarkDown2 Coefficient weight: 0.0658\n",
      "MarkDown3 Coefficient weight: 0.1621\n",
      "MarkDown5 Coefficient weight: 0.2407\n",
      "CPI Coefficient weight: -29.8958\n",
      "Unemployment Coefficient weight: -612.1828\n",
      "Dept Coefficient weight: 112.1943\n"
     ]
    }
   ],
   "source": [
    "#check all num coeff, except for markdown4, which has a perfect correclation\n",
    "# Code from above\n",
    "\n",
    "df = df.dropna()\n",
    "\n",
    "#1) Import packages\n",
    "from sklearn.linear_model import LinearRegression\n",
    "\n",
    "#2) Define X and y\n",
    "X = df[['Store', 'Temperature', 'Fuel_Price', 'MarkDown1', 'MarkDown2', 'MarkDown3',\n",
    "         'MarkDown5', 'CPI', 'Unemployment', 'Dept']] #Only numeric features work\n",
    "\n",
    "y = df['Weekly_Sales']\n",
    "\n",
    "\n",
    "\n",
    "#3) Initialize a regression object\n",
    "linreg = LinearRegression()\n",
    "\n",
    "# 4) Fit the model\n",
    "linreg.fit(X, y)\n",
    "\n",
    "#define xtrain and x test \n",
    "\n",
    "X_train, X_test, y_train, y_test = train_test_split(X, y, random_state=0)\n",
    "\n",
    "#5) predicator\n",
    "y_hat_train = linreg.predict(X_train)\n",
    "y_hat_test = linreg.predict(X_test)\n",
    "\n",
    "\n",
    "\n",
    "# 6) Measure performance using mean squared\n",
    "\n",
    "train_mse = np.sqrt(mean_squared_error(y_train, y_hat_train))\n",
    "test_mse = np.sqrt(mean_squared_error(y_test, y_hat_test))\n",
    "\n",
    "print('Train Mean Squared Error:', train_mse)\n",
    "print('Test Mean Squared Error:', test_mse)\n",
    "\n",
    "#Print the coefficients for the model's formula\n",
    "print('Model feature coefficients:')\n",
    "weight_dict = dict(zip(X.columns, linreg.coef_))\n",
    "for feat, coeff in list(zip(X.columns, linreg.coef_)):\n",
    "    print(feat, 'Coefficient weight: {}'.format(round(coeff, 4)))"
   ]
  },
  {
   "cell_type": "code",
   "execution_count": 79,
   "metadata": {},
   "outputs": [],
   "source": [
    "# lowered the mean squared error by not by enough- use dummys/feature eng and re-eval"
   ]
  },
  {
   "cell_type": "markdown",
   "metadata": {},
   "source": [
    "## Creat dummys, new model (Model2), feature eng2 and re-reval2"
   ]
  },
  {
   "cell_type": "code",
   "execution_count": 80,
   "metadata": {},
   "outputs": [],
   "source": [
    "for col in ['Store', 'Dept']:# makes a bunch of colums into numeric \"dummy\" values at the same time\n",
    "   df[col] = df[col].astype(str) #Make nonumeric"
   ]
  },
  {
   "cell_type": "code",
   "execution_count": 81,
   "metadata": {},
   "outputs": [
    {
     "data": {
      "text/html": [
       "<div>\n",
       "<style scoped>\n",
       "    .dataframe tbody tr th:only-of-type {\n",
       "        vertical-align: middle;\n",
       "    }\n",
       "\n",
       "    .dataframe tbody tr th {\n",
       "        vertical-align: top;\n",
       "    }\n",
       "\n",
       "    .dataframe thead th {\n",
       "        text-align: right;\n",
       "    }\n",
       "</style>\n",
       "<table border=\"1\" class=\"dataframe\">\n",
       "  <thead>\n",
       "    <tr style=\"text-align: right;\">\n",
       "      <th></th>\n",
       "      <th>Store</th>\n",
       "      <th>Temperature</th>\n",
       "      <th>Fuel_Price</th>\n",
       "      <th>MarkDown1</th>\n",
       "      <th>MarkDown2</th>\n",
       "      <th>MarkDown3</th>\n",
       "      <th>MarkDown5</th>\n",
       "      <th>CPI</th>\n",
       "      <th>Unemployment</th>\n",
       "      <th>Dept</th>\n",
       "    </tr>\n",
       "  </thead>\n",
       "  <tbody>\n",
       "    <tr>\n",
       "      <th>6587</th>\n",
       "      <td>1</td>\n",
       "      <td>59.11</td>\n",
       "      <td>3.297</td>\n",
       "      <td>10382.9</td>\n",
       "      <td>6115.67</td>\n",
       "      <td>215.07</td>\n",
       "      <td>6551.42</td>\n",
       "      <td>217.998085</td>\n",
       "      <td>7.866</td>\n",
       "      <td>1</td>\n",
       "    </tr>\n",
       "    <tr>\n",
       "      <th>6588</th>\n",
       "      <td>1</td>\n",
       "      <td>59.11</td>\n",
       "      <td>3.297</td>\n",
       "      <td>10382.9</td>\n",
       "      <td>6115.67</td>\n",
       "      <td>215.07</td>\n",
       "      <td>6551.42</td>\n",
       "      <td>217.998085</td>\n",
       "      <td>7.866</td>\n",
       "      <td>2</td>\n",
       "    </tr>\n",
       "    <tr>\n",
       "      <th>6589</th>\n",
       "      <td>1</td>\n",
       "      <td>59.11</td>\n",
       "      <td>3.297</td>\n",
       "      <td>10382.9</td>\n",
       "      <td>6115.67</td>\n",
       "      <td>215.07</td>\n",
       "      <td>6551.42</td>\n",
       "      <td>217.998085</td>\n",
       "      <td>7.866</td>\n",
       "      <td>3</td>\n",
       "    </tr>\n",
       "    <tr>\n",
       "      <th>6590</th>\n",
       "      <td>1</td>\n",
       "      <td>59.11</td>\n",
       "      <td>3.297</td>\n",
       "      <td>10382.9</td>\n",
       "      <td>6115.67</td>\n",
       "      <td>215.07</td>\n",
       "      <td>6551.42</td>\n",
       "      <td>217.998085</td>\n",
       "      <td>7.866</td>\n",
       "      <td>4</td>\n",
       "    </tr>\n",
       "    <tr>\n",
       "      <th>6591</th>\n",
       "      <td>1</td>\n",
       "      <td>59.11</td>\n",
       "      <td>3.297</td>\n",
       "      <td>10382.9</td>\n",
       "      <td>6115.67</td>\n",
       "      <td>215.07</td>\n",
       "      <td>6551.42</td>\n",
       "      <td>217.998085</td>\n",
       "      <td>7.866</td>\n",
       "      <td>5</td>\n",
       "    </tr>\n",
       "  </tbody>\n",
       "</table>\n",
       "</div>"
      ],
      "text/plain": [
       "      Store  Temperature  Fuel_Price  MarkDown1  MarkDown2  MarkDown3  \\\n",
       "6587      1        59.11       3.297    10382.9    6115.67     215.07   \n",
       "6588      1        59.11       3.297    10382.9    6115.67     215.07   \n",
       "6589      1        59.11       3.297    10382.9    6115.67     215.07   \n",
       "6590      1        59.11       3.297    10382.9    6115.67     215.07   \n",
       "6591      1        59.11       3.297    10382.9    6115.67     215.07   \n",
       "\n",
       "      MarkDown5         CPI  Unemployment  Dept  \n",
       "6587    6551.42  217.998085         7.866     1  \n",
       "6588    6551.42  217.998085         7.866     2  \n",
       "6589    6551.42  217.998085         7.866     3  \n",
       "6590    6551.42  217.998085         7.866     4  \n",
       "6591    6551.42  217.998085         7.866     5  "
      ]
     },
     "execution_count": 81,
     "metadata": {},
     "output_type": "execute_result"
    }
   ],
   "source": [
    "\n",
    "##tun all categorical into a dummys so code can analyze them \n",
    "NewX = pd.get_dummies(df[['Store', 'Temperature', 'Fuel_Price', 'MarkDown1', 'MarkDown2', 'MarkDown3',\n",
    "       'MarkDown5', 'CPI', 'Unemployment', 'Dept', 'IsHoliday_x']])\n",
    "X.head()"
   ]
  },
  {
   "cell_type": "code",
   "execution_count": 82,
   "metadata": {},
   "outputs": [
    {
     "data": {
      "text/plain": [
       "0    87064\n",
       "1     9992\n",
       "Name: IsHoliday_x, dtype: int64"
      ]
     },
     "execution_count": 82,
     "metadata": {},
     "output_type": "execute_result"
    }
   ],
   "source": [
    "df.IsHoliday_x = df.IsHoliday_x.map({True:1, False:0})# convert category into numeric so IsHoliday column can be use in analysis\n",
    "df.IsHoliday_x.value_counts()"
   ]
  },
  {
   "cell_type": "code",
   "execution_count": 83,
   "metadata": {},
   "outputs": [
    {
     "name": "stdout",
     "output_type": "stream",
     "text": [
      "Train Mean Squared Error: 13903.487991654401\n",
      "Test Mean Squared Error: 14120.86999532327\n",
      "Model feature coefficients:\n",
      "Temperature Coefficient weight: -4.3264\n",
      "Fuel_Price Coefficient weight: -2795.6944\n",
      "MarkDown1 Coefficient weight: -0.0237\n",
      "MarkDown2 Coefficient weight: -0.0789\n",
      "MarkDown3 Coefficient weight: 0.0745\n",
      "MarkDown5 Coefficient weight: -0.0122\n",
      "CPI Coefficient weight: -293.0222\n",
      "Unemployment Coefficient weight: 1127.6705\n",
      "IsHoliday_x Coefficient weight: 710.5935\n",
      "Store_1 Coefficient weight: 21556.2691\n",
      "Store_10 Coefficient weight: 1147.956\n",
      "Store_11 Coefficient weight: 20112.5936\n",
      "Store_12 Coefficient weight: -16195.5983\n",
      "Store_13 Coefficient weight: 3192.806\n",
      "Store_14 Coefficient weight: 16332.3281\n",
      "Store_15 Coefficient weight: -16958.717\n",
      "Store_16 Coefficient weight: 312.9134\n",
      "Store_17 Coefficient weight: -13272.0332\n",
      "Store_18 Coefficient weight: -10471.4477\n",
      "Store_19 Coefficient weight: -4994.6222\n",
      "Store_2 Coefficient weight: 26939.4036\n",
      "Store_20 Coefficient weight: 28430.2893\n",
      "Store_21 Coefficient weight: 9762.7127\n",
      "Store_22 Coefficient weight: -9299.735\n",
      "Store_23 Coefficient weight: -900.1097\n",
      "Store_24 Coefficient weight: -6920.9958\n",
      "Store_25 Coefficient weight: 7736.0716\n",
      "Store_26 Coefficient weight: -10982.4843\n",
      "Store_27 Coefficient weight: 345.5661\n",
      "Store_28 Coefficient weight: -12784.0369\n",
      "Store_29 Coefficient weight: -20046.6285\n",
      "Store_3 Coefficient weight: 5926.0537\n",
      "Store_30 Coefficient weight: 2143.5492\n",
      "Store_31 Coefficient weight: 19368.6419\n",
      "Store_32 Coefficient weight: 7984.8556\n",
      "Store_33 Coefficient weight: -28382.452\n",
      "Store_34 Coefficient weight: -17035.281\n",
      "Store_35 Coefficient weight: -13649.461\n",
      "Store_36 Coefficient weight: -1415.328\n",
      "Store_37 Coefficient weight: 1861.8592\n",
      "Store_38 Coefficient weight: -28002.4098\n",
      "Store_39 Coefficient weight: 21338.4103\n",
      "Store_4 Coefficient weight: 6758.6707\n",
      "Store_40 Coefficient weight: -7825.5243\n",
      "Store_41 Coefficient weight: 11782.5147\n",
      "Store_42 Coefficient weight: -21782.3337\n",
      "Store_43 Coefficient weight: 965.9028\n",
      "Store_44 Coefficient weight: -25533.5588\n",
      "Store_45 Coefficient weight: 413.133\n",
      "Store_5 Coefficient weight: 4513.3093\n",
      "Store_6 Coefficient weight: 23389.3378\n",
      "Store_7 Coefficient weight: -456.9801\n",
      "Store_8 Coefficient weight: 14873.0136\n",
      "Store_9 Coefficient weight: 9721.5761\n",
      "Dept_1 Coefficient weight: 6475.6402\n",
      "Dept_10 Coefficient weight: 7166.5249\n",
      "Dept_11 Coefficient weight: 1932.7746\n",
      "Dept_12 Coefficient weight: -10858.8656\n",
      "Dept_13 Coefficient weight: 19296.7813\n",
      "Dept_14 Coefficient weight: 3415.007\n",
      "Dept_16 Coefficient weight: -775.1037\n",
      "Dept_17 Coefficient weight: -3279.4115\n",
      "Dept_18 Coefficient weight: -5918.7384\n",
      "Dept_19 Coefficient weight: -14949.921\n",
      "Dept_2 Coefficient weight: 36280.2179\n",
      "Dept_20 Coefficient weight: -9435.348\n",
      "Dept_21 Coefficient weight: -9876.9092\n",
      "Dept_22 Coefficient weight: -3878.0699\n",
      "Dept_23 Coefficient weight: 11697.0621\n",
      "Dept_24 Coefficient weight: -9088.0959\n",
      "Dept_25 Coefficient weight: -5031.5813\n",
      "Dept_26 Coefficient weight: -7645.4812\n",
      "Dept_27 Coefficient weight: -13951.2331\n",
      "Dept_28 Coefficient weight: -15072.5414\n",
      "Dept_29 Coefficient weight: -9837.6141\n",
      "Dept_3 Coefficient weight: -351.7132\n",
      "Dept_30 Coefficient weight: -12010.1102\n",
      "Dept_31 Coefficient weight: -13085.0759\n",
      "Dept_32 Coefficient weight: -7741.774\n",
      "Dept_33 Coefficient weight: -9037.242\n",
      "Dept_34 Coefficient weight: -94.2582\n",
      "Dept_35 Coefficient weight: -13003.5136\n",
      "Dept_36 Coefficient weight: -13930.396\n",
      "Dept_37 Coefficient weight: -16534.6699\n",
      "Dept_38 Coefficient weight: 49702.2792\n",
      "Dept_39 Coefficient weight: -19566.0436\n",
      "Dept_4 Coefficient weight: 14683.5756\n",
      "Dept_40 Coefficient weight: 37283.7275\n",
      "Dept_41 Coefficient weight: -13770.6605\n",
      "Dept_42 Coefficient weight: -9255.0892\n",
      "Dept_43 Coefficient weight: -10439.9236\n",
      "Dept_44 Coefficient weight: -10758.4159\n",
      "Dept_45 Coefficient weight: -16606.2404\n",
      "Dept_46 Coefficient weight: 8745.4548\n",
      "Dept_47 Coefficient weight: -17014.908\n",
      "Dept_48 Coefficient weight: -17069.0252\n",
      "Dept_49 Coefficient weight: -8421.1401\n",
      "Dept_5 Coefficient weight: 10924.6686\n",
      "Dept_50 Coefficient weight: -17108.0\n",
      "Dept_51 Coefficient weight: -18136.7236\n",
      "Dept_52 Coefficient weight: -13456.0121\n",
      "Dept_54 Coefficient weight: -16774.103\n",
      "Dept_55 Coefficient weight: -3918.0469\n",
      "Dept_56 Coefficient weight: -12433.9513\n",
      "Dept_58 Coefficient weight: -13292.1909\n",
      "Dept_59 Coefficient weight: -15480.5147\n",
      "Dept_6 Coefficient weight: -11037.0484\n",
      "Dept_60 Coefficient weight: -15369.2303\n",
      "Dept_65 Coefficient weight: 31094.5457\n",
      "Dept_67 Coefficient weight: -6721.6045\n",
      "Dept_7 Coefficient weight: 16994.3883\n",
      "Dept_71 Coefficient weight: -9857.8196\n",
      "Dept_72 Coefficient weight: 45450.3851\n",
      "Dept_74 Coefficient weight: 1281.5251\n",
      "Dept_77 Coefficient weight: -18879.1112\n",
      "Dept_78 Coefficient weight: -17709.232\n",
      "Dept_79 Coefficient weight: 9517.9258\n",
      "Dept_8 Coefficient weight: 19863.8941\n",
      "Dept_80 Coefficient weight: -3388.2958\n",
      "Dept_81 Coefficient weight: 1491.6814\n",
      "Dept_82 Coefficient weight: 4465.9752\n",
      "Dept_83 Coefficient weight: -12763.4493\n",
      "Dept_85 Coefficient weight: -13212.8445\n",
      "Dept_87 Coefficient weight: 2843.023\n",
      "Dept_9 Coefficient weight: 8732.0079\n",
      "Dept_90 Coefficient weight: 36060.5999\n",
      "Dept_91 Coefficient weight: 22752.1766\n",
      "Dept_92 Coefficient weight: 73954.026\n",
      "Dept_93 Coefficient weight: 13849.4863\n",
      "Dept_94 Coefficient weight: 18058.3627\n",
      "Dept_95 Coefficient weight: 62517.6892\n",
      "Dept_96 Coefficient weight: -424.3339\n",
      "Dept_97 Coefficient weight: -68.9744\n",
      "Dept_98 Coefficient weight: -8953.2378\n",
      "Dept_99 Coefficient weight: -19257.5683\n"
     ]
    }
   ],
   "source": [
    "#now use dummys as x\n",
    "\n",
    "df = df.dropna()\n",
    "\n",
    "#1) Import packages\n",
    "from sklearn.linear_model import LinearRegression\n",
    "\n",
    "#2) Define X and y\n",
    "X = NewX\n",
    "y = df['Weekly_Sales']\n",
    "\n",
    "\n",
    "\n",
    "#3) Initialize a regression object\n",
    "linreg = LinearRegression()\n",
    "\n",
    "# 4) Fit the model\n",
    "linreg.fit(X, y)\n",
    "\n",
    "#define xtrain and x test \n",
    "\n",
    "X_train, X_test, y_train, y_test = train_test_split(X, y, random_state=0)\n",
    "\n",
    "#5) predicator\n",
    "y_hat_train = linreg.predict(X_train)\n",
    "y_hat_test = linreg.predict(X_test)\n",
    "\n",
    "\n",
    "\n",
    "# 6) Measure performance using mean squared\n",
    "\n",
    "train_mse = np.sqrt(mean_squared_error(y_train, y_hat_train))\n",
    "test_mse = np.sqrt(mean_squared_error(y_test, y_hat_test))\n",
    "\n",
    "print('Train Mean Squared Error:', train_mse)\n",
    "print('Test Mean Squared Error:', test_mse)\n",
    "\n",
    "#Print the coefficients for the model's formula\n",
    "print('Model feature coefficients:')\n",
    "weight_dict = dict(zip(X.columns, linreg.coef_))\n",
    "for feat, coeff in list(zip(X.columns, linreg.coef_)):\n",
    "    print(feat, 'Coefficient weight: {}'.format(round(coeff, 4)))"
   ]
  },
  {
   "cell_type": "code",
   "execution_count": 84,
   "metadata": {},
   "outputs": [],
   "source": [
    "#train and test are pretty close!! this is good"
   ]
  },
  {
   "cell_type": "markdown",
   "metadata": {},
   "source": []
  },
  {
   "cell_type": "code",
   "execution_count": null,
   "metadata": {},
   "outputs": [],
   "source": []
  },
  {
   "cell_type": "markdown",
   "metadata": {},
   "source": []
  },
  {
   "cell_type": "code",
   "execution_count": null,
   "metadata": {},
   "outputs": [],
   "source": []
  },
  {
   "cell_type": "markdown",
   "metadata": {},
   "source": [
    "\n"
   ]
  },
  {
   "cell_type": "code",
   "execution_count": null,
   "metadata": {},
   "outputs": [],
   "source": []
  },
  {
   "cell_type": "markdown",
   "metadata": {},
   "source": []
  },
  {
   "cell_type": "code",
   "execution_count": null,
   "metadata": {},
   "outputs": [],
   "source": []
  },
  {
   "cell_type": "markdown",
   "metadata": {},
   "source": [
    "## Further Investigation/Exploration"
   ]
  },
  {
   "cell_type": "code",
   "execution_count": 85,
   "metadata": {},
   "outputs": [],
   "source": [
    "#lets add normalizing\n",
    "#if its a number and not weekly sales then return list of col \n",
    "features = [col for col in df.columns if df[col].dtype in [np.float64, np.int64] and col!='Weekly_Sales']\n",
    "X = df[features]\n",
    "\n",
    "\n"
   ]
  },
  {
   "cell_type": "code",
   "execution_count": 54,
   "metadata": {},
   "outputs": [
    {
     "name": "stderr",
     "output_type": "stream",
     "text": [
      "C:\\Users\\fogelrac\\AppData\\Local\\Continuum\\anaconda3\\anaconda3.7\\lib\\site-packages\\ipykernel_launcher.py:5: SettingWithCopyWarning: \n",
      "A value is trying to be set on a copy of a slice from a DataFrame.\n",
      "Try using .loc[row_indexer,col_indexer] = value instead\n",
      "\n",
      "See the caveats in the documentation: http://pandas.pydata.org/pandas-docs/stable/indexing.html#indexing-view-versus-copy\n",
      "  \"\"\"\n"
     ]
    },
    {
     "name": "stdout",
     "output_type": "stream",
     "text": [
      "Training r^2: 0.014342266232288958\n",
      "Testing r^2: 0.013167090972116435\n",
      "Training MSE: 24562.09182675328\n",
      "Testing MSE: 24544.201756710652\n"
     ]
    }
   ],
   "source": [
    "\n",
    "#make null values = to avergage\n",
    "for col in X:\n",
    "    avg = X[col].mean()\n",
    "    X[col] = X[col].fillna(value=avg)\n",
    "y = df.Weekly_Sales\n",
    "\n",
    "X_train, X_test, y_train, y_test = train_test_split(X,y)\n",
    "ols = LinearRegression(normalize=True)\n",
    "ols.fit(X_train, y_train)\n",
    "print('Training r^2:', ols.score(X_train, y_train))\n",
    "print('Testing r^2:', ols.score(X_test, y_test))\n",
    "print('Training MSE:', np.sqrt(mean_squared_error(y_train, ols.predict(X_train))))\n",
    "print('Testing MSE:', np.sqrt(mean_squared_error(y_test, ols.predict(X_test))))\n"
   ]
  },
  {
   "cell_type": "code",
   "execution_count": 86,
   "metadata": {},
   "outputs": [
    {
     "name": "stderr",
     "output_type": "stream",
     "text": [
      "C:\\Users\\fogelrac\\AppData\\Local\\Continuum\\anaconda3\\anaconda3.7\\lib\\site-packages\\ipykernel_launcher.py:8: SettingWithCopyWarning: \n",
      "A value is trying to be set on a copy of a slice from a DataFrame.\n",
      "Try using .loc[row_indexer,col_indexer] = value instead\n",
      "\n",
      "See the caveats in the documentation: http://pandas.pydata.org/pandas-docs/stable/indexing.html#indexing-view-versus-copy\n",
      "  \n"
     ]
    }
   ],
   "source": [
    "features = [col for col in df.columns if df[col].dtype in [np.float64, np.int64] and col!='Weekly_Sales']\n",
    "X = df[features]\n",
    "\n",
    "#X = df.drop('Weekly_Sales', axis=1)\n",
    "#Impute null values\n",
    "for col in X:\n",
    "    avg = X[col].mean()\n",
    "    X[col] = X[col].fillna(value=avg)\n",
    "y = df.Weekly_Sales\n",
    "\n",
    "X_train, X_test, y_train, y_test = train_test_split(X, y, random_state=42)"
   ]
  },
  {
   "cell_type": "code",
   "execution_count": 87,
   "metadata": {},
   "outputs": [
    {
     "name": "stdout",
     "output_type": "stream",
     "text": [
      "Training r^2: 0.013372330205059901\n",
      "Testing r^2: 0.015939031198554332\n",
      "Training MSE: 24493.47503233785\n",
      "Testing MSE: 24749.773120333706\n"
     ]
    }
   ],
   "source": [
    "ols = LinearRegression(normalize=True)\n",
    "ols.fit(X_train, y_train)\n",
    "\n",
    "print('Training r^2:', ols.score(X_train, y_train))\n",
    "print('Testing r^2:', ols.score(X_test, y_test))\n",
    "print('Training MSE:', np.sqrt(mean_squared_error(y_train, ols.predict(X_train))))\n",
    "print('Testing MSE:', np.sqrt(mean_squared_error(y_test, ols.predict(X_test))))\n",
    "\n",
    "\n",
    "#this has a higher r^2 and lower MSE- this is good!"
   ]
  },
  {
   "cell_type": "code",
   "execution_count": 88,
   "metadata": {},
   "outputs": [
    {
     "name": "stdout",
     "output_type": "stream",
     "text": [
      "Training r^2: 0.013372329633065894\n",
      "Testing r^2: 0.015938619799409692\n",
      "Training MSE: 24493.475039437857\n",
      "Testing MSE: 24749.778293811138\n"
     ]
    }
   ],
   "source": [
    "from sklearn.linear_model import Lasso, Ridge, RidgeCV\n",
    "\n",
    "L1 = Lasso(alpha = .1) #Lasso is also known as the L1 norm.\n",
    "L1.fit(X_train, y_train)\n",
    "print('Training r^2:', L1.score(X_train, y_train))\n",
    "print('Testing r^2:', L1.score(X_test, y_test))\n",
    "print('Training MSE:', np.sqrt(mean_squared_error(y_train, L1.predict(X_train))))\n",
    "print('Testing MSE:', np.sqrt(mean_squared_error(y_test, L1.predict(X_test))))\n"
   ]
  },
  {
   "cell_type": "code",
   "execution_count": 89,
   "metadata": {},
   "outputs": [
    {
     "name": "stdout",
     "output_type": "stream",
     "text": [
      "Training r^2: 0.010330489301637602\n",
      "Testing r^2: 0.011890549408367201\n",
      "Training MSE: 24531.20350815965\n",
      "Testing MSE: 24800.631839626247\n"
     ]
    }
   ],
   "source": [
    "L1 = Lasso(alpha=5000) #changing up the alpha to see what happens\n",
    "L1.fit(X_train, y_train)\n",
    "print('Training r^2:', L1.score(X_train, y_train))\n",
    "print('Testing r^2:', L1.score(X_test, y_test))\n",
    "print('Training MSE:', np.sqrt(mean_squared_error(y_train, L1.predict(X_train))))\n",
    "print('Testing MSE:', np.sqrt(mean_squared_error(y_test, L1.predict(X_test))))"
   ]
  },
  {
   "cell_type": "code",
   "execution_count": 90,
   "metadata": {},
   "outputs": [],
   "source": [
    "# low alpha is better"
   ]
  },
  {
   "cell_type": "code",
   "execution_count": 91,
   "metadata": {},
   "outputs": [
    {
     "name": "stdout",
     "output_type": "stream",
     "text": [
      "Training r^2: 0.013372330199340145\n",
      "Testing r^2: 0.01593899010969302\n",
      "Training MSE: 24493.475032408853\n",
      "Testing MSE: 24749.77363703949\n"
     ]
    }
   ],
   "source": [
    "L1 = Lasso(alpha=.01) #changing up the alpha to see what happens\n",
    "L1.fit(X_train, y_train)\n",
    "print('Training r^2:', L1.score(X_train, y_train))\n",
    "print('Testing r^2:', L1.score(X_test, y_test))\n",
    "print('Training MSE:', np.sqrt(mean_squared_error(y_train, L1.predict(X_train))))\n",
    "print('Testing MSE:', np.sqrt(mean_squared_error(y_test, L1.predict(X_test))))"
   ]
  },
  {
   "cell_type": "code",
   "execution_count": 92,
   "metadata": {},
   "outputs": [
    {
     "name": "stdout",
     "output_type": "stream",
     "text": [
      "alpha: 0.0001\n",
      "Training r^2: 0.013372330205059568\n",
      "Testing r^2: 0.015939030787721853\n",
      "Training MSE: 24493.475032337858\n",
      "Testing MSE: 24749.773125500058\n",
      "------------------------------------------------------------------------------------------------------------------------------------------------------------------------------------------------------------------------------------------------------------------------------------------------------------\n",
      "alpha: 0.005\n",
      "Training r^2: 0.013372330203630045\n",
      "Testing r^2: 0.01593901065554182\n",
      "Training MSE: 24493.4750323556\n",
      "Testing MSE: 24749.773378668764\n",
      "------------------------------------------------------------------------------------------------------------------------------------------------------------------------------------------------------------------------------------------------------------------------------------------------------------\n",
      "alpha: 7\n",
      "Training r^2: 0.013369527433823691\n",
      "Testing r^2: 0.01590749332544361\n",
      "Training MSE: 24493.509822340526\n",
      "Testing MSE: 24750.169716162163\n",
      "------------------------------------------------------------------------------------------------------------------------------------------------------------------------------------------------------------------------------------------------------------------------------------------------------------\n",
      "alpha: 70000\n",
      "Training r^2: 0.009524084333070282\n",
      "Testing r^2: 0.010904532484791618\n",
      "Training MSE: 24541.195761179093\n",
      "Testing MSE: 24813.002809877747\n",
      "------------------------------------------------------------------------------------------------------------------------------------------------------------------------------------------------------------------------------------------------------------------------------------------------------------\n"
     ]
    }
   ],
   "source": [
    "#changing up the alpha to see what happens using for loop\n",
    "\n",
    "\n",
    "for i in [.0001,.005, 7, 70000 ]:\n",
    "    L1 = Lasso(alpha=i) \n",
    "    L1.fit(X_train, y_train)\n",
    "    print(\"alpha:\", i)\n",
    "    print('Training r^2:', L1.score(X_train, y_train))\n",
    "    print('Testing r^2:', L1.score(X_test, y_test))\n",
    "    print('Training MSE:', np.sqrt(mean_squared_error(y_train, L1.predict(X_train))))\n",
    "    print('Testing MSE:', np.sqrt(mean_squared_error(y_test, L1.predict(X_test))))\n",
    "    print(\"---\"*100)"
   ]
  },
  {
   "cell_type": "code",
   "execution_count": null,
   "metadata": {},
   "outputs": [],
   "source": []
  },
  {
   "cell_type": "code",
   "execution_count": null,
   "metadata": {},
   "outputs": [],
   "source": []
  },
  {
   "cell_type": "code",
   "execution_count": 93,
   "metadata": {},
   "outputs": [
    {
     "name": "stdout",
     "output_type": "stream",
     "text": [
      "alpha: 0.0001\n",
      "Training r^2: 0.013372330205059568\n",
      "Testing r^2: 0.015939030787721853\n",
      "Training MSE: 24493.475032337858\n",
      "Testing MSE: 24749.773125500058\n",
      "------------------------------------------------------------------------------------------------------------------------------------------------------------------------------------------------------------------------------------------------------------------------------------------------------------\n",
      "alpha: 0.001\n",
      "Training r^2: 0.013372330205002949\n",
      "Testing r^2: 0.015939027090178914\n",
      "Training MSE: 24493.47503233856\n",
      "Testing MSE: 24749.773171997862\n",
      "------------------------------------------------------------------------------------------------------------------------------------------------------------------------------------------------------------------------------------------------------------------------------------------------------------\n",
      "alpha: 0.01\n",
      "Training r^2: 0.013372330199340145\n",
      "Testing r^2: 0.01593899010969302\n",
      "Training MSE: 24493.475032408853\n",
      "Testing MSE: 24749.77363703949\n",
      "------------------------------------------------------------------------------------------------------------------------------------------------------------------------------------------------------------------------------------------------------------------------------------------------------------\n"
     ]
    }
   ],
   "source": [
    "#lower is best so far so explore whats going on below 0\n",
    "\n",
    "for i in [.0001,.001,.01]:\n",
    "    L1 = Lasso(alpha=i) \n",
    "    L1.fit(X_train, y_train)\n",
    "    print(\"alpha:\", i)\n",
    "    print('Training r^2:', L1.score(X_train, y_train))\n",
    "    print('Testing r^2:', L1.score(X_test, y_test))\n",
    "    print('Training MSE:', np.sqrt(mean_squared_error(y_train, L1.predict(X_train))))\n",
    "    print('Testing MSE:', np.sqrt(mean_squared_error(y_test, L1.predict(X_test))))\n",
    "    print(\"---\"*100)"
   ]
  },
  {
   "cell_type": "code",
   "execution_count": 94,
   "metadata": {},
   "outputs": [
    {
     "name": "stdout",
     "output_type": "stream",
     "text": [
      "alpha: 1e-23\n",
      "Training r^2: 0.013372330205060122\n",
      "Testing r^2: 0.015939031198554332\n",
      "Training MSE: 24493.47503233785\n",
      "Testing MSE: 24749.773120333706\n",
      "------------------------------\n",
      "alpha: 2e-07\n",
      "Training r^2: 0.013372330205060122\n",
      "Testing r^2: 0.015939031197732545\n",
      "Training MSE: 24493.47503233785\n",
      "Testing MSE: 24749.77312034404\n",
      "------------------------------\n"
     ]
    },
    {
     "name": "stderr",
     "output_type": "stream",
     "text": [
      "C:\\Users\\fogelrac\\AppData\\Local\\Continuum\\anaconda3\\anaconda3.7\\lib\\site-packages\\sklearn\\linear_model\\coordinate_descent.py:491: ConvergenceWarning: Objective did not converge. You might want to increase the number of iterations. Fitting data with very small alpha may cause precision problems.\n",
      "  ConvergenceWarning)\n"
     ]
    }
   ],
   "source": [
    "#lower has a lower MSE\n",
    "\n",
    "\n",
    "for i in [.00000000000000000000001,.0000002 ]:\n",
    "    L1 = Lasso(alpha=i) \n",
    "    L1.fit(X_train, y_train)\n",
    "    print(\"alpha:\", i)\n",
    "    print('Training r^2:', L1.score(X_train, y_train))\n",
    "    print('Testing r^2:', L1.score(X_test, y_test))\n",
    "    print('Training MSE:', np.sqrt(mean_squared_error(y_train, L1.predict(X_train))))\n",
    "    print('Testing MSE:', np.sqrt(mean_squared_error(y_test, L1.predict(X_test))))\n",
    "    print(\"---\"*10)"
   ]
  },
  {
   "cell_type": "code",
   "execution_count": 95,
   "metadata": {},
   "outputs": [
    {
     "name": "stdout",
     "output_type": "stream",
     "text": [
      "alpha: 2e-07\n",
      "Training r^2: 0.013372330205060122\n",
      "Testing r^2: 0.015939031198554332\n",
      "Training MSE: 24493.47503233785\n",
      "Testing MSE: 24749.773120333706\n",
      "------------------------------\n"
     ]
    },
    {
     "name": "stderr",
     "output_type": "stream",
     "text": [
      "C:\\Users\\fogelrac\\AppData\\Local\\Continuum\\anaconda3\\anaconda3.7\\lib\\site-packages\\sklearn\\linear_model\\coordinate_descent.py:491: ConvergenceWarning: Objective did not converge. You might want to increase the number of iterations. Fitting data with very small alpha may cause precision problems.\n",
      "  ConvergenceWarning)\n"
     ]
    }
   ],
   "source": [
    "# best one is alpha= 1e-100\n",
    "L1 = Lasso(alpha= 1e-100) \n",
    "L1.fit(X_train, y_train)\n",
    "print(\"alpha:\", i)\n",
    "print('Training r^2:', L1.score(X_train, y_train))\n",
    "print('Testing r^2:', L1.score(X_test, y_test))\n",
    "print('Training MSE:', np.sqrt(mean_squared_error(y_train, L1.predict(X_train))))\n",
    "print('Testing MSE:', np.sqrt(mean_squared_error(y_test, L1.predict(X_test))))\n",
    "print(\"---\"*10)\n",
    "\n",
    "estimated_weekly_sales= L1.predict(X_test)"
   ]
  },
  {
   "cell_type": "code",
   "execution_count": 96,
   "metadata": {},
   "outputs": [
    {
     "name": "stderr",
     "output_type": "stream",
     "text": [
      "C:\\Users\\fogelrac\\AppData\\Local\\Continuum\\anaconda3\\anaconda3.7\\lib\\site-packages\\ipykernel_launcher.py:6: SettingWithCopyWarning: \n",
      "A value is trying to be set on a copy of a slice from a DataFrame.\n",
      "Try using .loc[row_indexer,col_indexer] = value instead\n",
      "\n",
      "See the caveats in the documentation: http://pandas.pydata.org/pandas-docs/stable/indexing.html#indexing-view-versus-copy\n",
      "  \n"
     ]
    },
    {
     "name": "stdout",
     "output_type": "stream",
     "text": [
      "Training r^2: 0.013372330205059901\n",
      "Testing r^2: 0.015939031198554332\n",
      "Training MSE: 24493.47503233785\n",
      "Testing MSE: 24749.773120333706\n"
     ]
    }
   ],
   "source": [
    "features = [col for col in df.columns if df[col].dtype in [np.float64, np.int64] and col!='Weekly_Sales']\n",
    "X = df[features]\n",
    "\n",
    "for col in X:\n",
    "    avg = X[col].mean()\n",
    "    X[col] = X[col].fillna(value=avg)\n",
    "y = df.Weekly_Sales\n",
    "\n",
    "X_train, X_test, y_train, y_test = train_test_split(X, y, random_state=42)\n",
    "\n",
    "ols = LinearRegression(normalize=True)\n",
    "ols.fit(X_train, y_train)\n",
    "\n",
    "print('Training r^2:', ols.score(X_train, y_train))\n",
    "print('Testing r^2:', ols.score(X_test, y_test))\n",
    "print('Training MSE:', np.sqrt(mean_squared_error(y_train, ols.predict(X_train))))\n",
    "print('Testing MSE:', np.sqrt(mean_squared_error(y_test, ols.predict(X_test))))\n",
    "\n"
   ]
  },
  {
   "cell_type": "code",
   "execution_count": 97,
   "metadata": {},
   "outputs": [
    {
     "ename": "ValueError",
     "evalue": "shapes (72792,135) and (10,) not aligned: 135 (dim 1) != 10 (dim 0)",
     "output_type": "error",
     "traceback": [
      "\u001b[1;31m---------------------------------------------------------------------------\u001b[0m",
      "\u001b[1;31mValueError\u001b[0m                                Traceback (most recent call last)",
      "\u001b[1;32m<ipython-input-97-ae49c8d01ec0>\u001b[0m in \u001b[0;36m<module>\u001b[1;34m()\u001b[0m\n\u001b[0;32m     35\u001b[0m \u001b[0mtest_mse\u001b[0m \u001b[1;33m=\u001b[0m \u001b[0mnp\u001b[0m\u001b[1;33m.\u001b[0m\u001b[0msqrt\u001b[0m\u001b[1;33m(\u001b[0m\u001b[0mmean_squared_error\u001b[0m\u001b[1;33m(\u001b[0m\u001b[0my_test\u001b[0m\u001b[1;33m,\u001b[0m \u001b[0my_hat_test\u001b[0m\u001b[1;33m)\u001b[0m\u001b[1;33m)\u001b[0m\u001b[1;33m\u001b[0m\u001b[0m\n\u001b[0;32m     36\u001b[0m \u001b[1;33m\u001b[0m\u001b[0m\n\u001b[1;32m---> 37\u001b[1;33m \u001b[0mprint\u001b[0m\u001b[1;33m(\u001b[0m\u001b[1;34m'Training r^2:'\u001b[0m\u001b[1;33m,\u001b[0m \u001b[0mols\u001b[0m\u001b[1;33m.\u001b[0m\u001b[0mscore\u001b[0m\u001b[1;33m(\u001b[0m\u001b[0mX_train\u001b[0m\u001b[1;33m,\u001b[0m \u001b[0my_train\u001b[0m\u001b[1;33m)\u001b[0m\u001b[1;33m)\u001b[0m\u001b[1;33m\u001b[0m\u001b[0m\n\u001b[0m\u001b[0;32m     38\u001b[0m \u001b[0mprint\u001b[0m\u001b[1;33m(\u001b[0m\u001b[1;34m'Testing r^2:'\u001b[0m\u001b[1;33m,\u001b[0m \u001b[0mols\u001b[0m\u001b[1;33m.\u001b[0m\u001b[0mscore\u001b[0m\u001b[1;33m(\u001b[0m\u001b[0mX_test\u001b[0m\u001b[1;33m,\u001b[0m \u001b[0my_test\u001b[0m\u001b[1;33m)\u001b[0m\u001b[1;33m)\u001b[0m\u001b[1;33m\u001b[0m\u001b[0m\n\u001b[0;32m     39\u001b[0m \u001b[0mprint\u001b[0m\u001b[1;33m(\u001b[0m\u001b[1;34m'Train Mean Squared Error:'\u001b[0m\u001b[1;33m,\u001b[0m \u001b[0mtrain_mse\u001b[0m\u001b[1;33m)\u001b[0m\u001b[1;33m\u001b[0m\u001b[0m\n",
      "\u001b[1;32m~\\AppData\\Local\\Continuum\\anaconda3\\anaconda3.7\\lib\\site-packages\\sklearn\\base.py\u001b[0m in \u001b[0;36mscore\u001b[1;34m(self, X, y, sample_weight)\u001b[0m\n\u001b[0;32m    384\u001b[0m \u001b[1;33m\u001b[0m\u001b[0m\n\u001b[0;32m    385\u001b[0m         \u001b[1;32mfrom\u001b[0m \u001b[1;33m.\u001b[0m\u001b[0mmetrics\u001b[0m \u001b[1;32mimport\u001b[0m \u001b[0mr2_score\u001b[0m\u001b[1;33m\u001b[0m\u001b[0m\n\u001b[1;32m--> 386\u001b[1;33m         return r2_score(y, self.predict(X), sample_weight=sample_weight,\n\u001b[0m\u001b[0;32m    387\u001b[0m                         multioutput='variance_weighted')\n\u001b[0;32m    388\u001b[0m \u001b[1;33m\u001b[0m\u001b[0m\n",
      "\u001b[1;32m~\\AppData\\Local\\Continuum\\anaconda3\\anaconda3.7\\lib\\site-packages\\sklearn\\linear_model\\base.py\u001b[0m in \u001b[0;36mpredict\u001b[1;34m(self, X)\u001b[0m\n\u001b[0;32m    254\u001b[0m             \u001b[0mReturns\u001b[0m \u001b[0mpredicted\u001b[0m \u001b[0mvalues\u001b[0m\u001b[1;33m.\u001b[0m\u001b[1;33m\u001b[0m\u001b[0m\n\u001b[0;32m    255\u001b[0m         \"\"\"\n\u001b[1;32m--> 256\u001b[1;33m         \u001b[1;32mreturn\u001b[0m \u001b[0mself\u001b[0m\u001b[1;33m.\u001b[0m\u001b[0m_decision_function\u001b[0m\u001b[1;33m(\u001b[0m\u001b[0mX\u001b[0m\u001b[1;33m)\u001b[0m\u001b[1;33m\u001b[0m\u001b[0m\n\u001b[0m\u001b[0;32m    257\u001b[0m \u001b[1;33m\u001b[0m\u001b[0m\n\u001b[0;32m    258\u001b[0m     \u001b[0m_preprocess_data\u001b[0m \u001b[1;33m=\u001b[0m \u001b[0mstaticmethod\u001b[0m\u001b[1;33m(\u001b[0m\u001b[0m_preprocess_data\u001b[0m\u001b[1;33m)\u001b[0m\u001b[1;33m\u001b[0m\u001b[0m\n",
      "\u001b[1;32m~\\AppData\\Local\\Continuum\\anaconda3\\anaconda3.7\\lib\\site-packages\\sklearn\\linear_model\\base.py\u001b[0m in \u001b[0;36m_decision_function\u001b[1;34m(self, X)\u001b[0m\n\u001b[0;32m    239\u001b[0m         \u001b[0mX\u001b[0m \u001b[1;33m=\u001b[0m \u001b[0mcheck_array\u001b[0m\u001b[1;33m(\u001b[0m\u001b[0mX\u001b[0m\u001b[1;33m,\u001b[0m \u001b[0maccept_sparse\u001b[0m\u001b[1;33m=\u001b[0m\u001b[1;33m[\u001b[0m\u001b[1;34m'csr'\u001b[0m\u001b[1;33m,\u001b[0m \u001b[1;34m'csc'\u001b[0m\u001b[1;33m,\u001b[0m \u001b[1;34m'coo'\u001b[0m\u001b[1;33m]\u001b[0m\u001b[1;33m)\u001b[0m\u001b[1;33m\u001b[0m\u001b[0m\n\u001b[0;32m    240\u001b[0m         return safe_sparse_dot(X, self.coef_.T,\n\u001b[1;32m--> 241\u001b[1;33m                                dense_output=True) + self.intercept_\n\u001b[0m\u001b[0;32m    242\u001b[0m \u001b[1;33m\u001b[0m\u001b[0m\n\u001b[0;32m    243\u001b[0m     \u001b[1;32mdef\u001b[0m \u001b[0mpredict\u001b[0m\u001b[1;33m(\u001b[0m\u001b[0mself\u001b[0m\u001b[1;33m,\u001b[0m \u001b[0mX\u001b[0m\u001b[1;33m)\u001b[0m\u001b[1;33m:\u001b[0m\u001b[1;33m\u001b[0m\u001b[0m\n",
      "\u001b[1;32m~\\AppData\\Local\\Continuum\\anaconda3\\anaconda3.7\\lib\\site-packages\\sklearn\\utils\\extmath.py\u001b[0m in \u001b[0;36msafe_sparse_dot\u001b[1;34m(a, b, dense_output)\u001b[0m\n\u001b[0;32m    138\u001b[0m         \u001b[1;32mreturn\u001b[0m \u001b[0mret\u001b[0m\u001b[1;33m\u001b[0m\u001b[0m\n\u001b[0;32m    139\u001b[0m     \u001b[1;32melse\u001b[0m\u001b[1;33m:\u001b[0m\u001b[1;33m\u001b[0m\u001b[0m\n\u001b[1;32m--> 140\u001b[1;33m         \u001b[1;32mreturn\u001b[0m \u001b[0mnp\u001b[0m\u001b[1;33m.\u001b[0m\u001b[0mdot\u001b[0m\u001b[1;33m(\u001b[0m\u001b[0ma\u001b[0m\u001b[1;33m,\u001b[0m \u001b[0mb\u001b[0m\u001b[1;33m)\u001b[0m\u001b[1;33m\u001b[0m\u001b[0m\n\u001b[0m\u001b[0;32m    141\u001b[0m \u001b[1;33m\u001b[0m\u001b[0m\n\u001b[0;32m    142\u001b[0m \u001b[1;33m\u001b[0m\u001b[0m\n",
      "\u001b[1;31mValueError\u001b[0m: shapes (72792,135) and (10,) not aligned: 135 (dim 1) != 10 (dim 0)"
     ]
    }
   ],
   "source": [
    "#now use dummys as x\n",
    "NewX = pd.get_dummies(df[['Store', 'Temperature', 'Fuel_Price', 'MarkDown1', 'MarkDown2', 'MarkDown3',\n",
    "       'MarkDown5', 'CPI', 'Unemployment', 'Dept', 'IsHoliday_x']])\n",
    "X.head()\n",
    "\n",
    "df = df.dropna()\n",
    "\n",
    "#1) Import packages\n",
    "from sklearn.linear_model import LinearRegression\n",
    "\n",
    "#2) Define X and y\n",
    "X = NewX\n",
    "y = df['Weekly_Sales']\n",
    "\n",
    "\n",
    "\n",
    "#3) Initialize a regression object and fit model \n",
    "\n",
    "ols = LinearRegression(normalize=True)\n",
    "ols.fit(X_train, y_train)\n",
    "\n",
    "#define xtrain and x test \n",
    "\n",
    "X_train, X_test, y_train, y_test = train_test_split(X, y, random_state=0)\n",
    "\n",
    "#5) predicator\n",
    "y_hat_train = linreg.predict(X_train)\n",
    "y_hat_test = linreg.predict(X_test)\n",
    "\n",
    "\n",
    "\n",
    "# 6) Measure performance using mean squared\n",
    "\n",
    "train_mse = np.sqrt(mean_squared_error(y_train, y_hat_train))\n",
    "test_mse = np.sqrt(mean_squared_error(y_test, y_hat_test))\n",
    "\n",
    "print('Training r^2:', ols.score(X_train, y_train))\n",
    "print('Testing r^2:', ols.score(X_test, y_test))\n",
    "print('Train Mean Squared Error:', train_mse)\n",
    "print('Test Mean Squared Error:', test_mse)\n"
   ]
  },
  {
   "cell_type": "code",
   "execution_count": 98,
   "metadata": {},
   "outputs": [
    {
     "name": "stderr",
     "output_type": "stream",
     "text": [
      "C:\\Users\\fogelrac\\AppData\\Local\\Continuum\\anaconda3\\anaconda3.7\\lib\\site-packages\\sklearn\\linear_model\\coordinate_descent.py:491: ConvergenceWarning: Objective did not converge. You might want to increase the number of iterations. Fitting data with very small alpha may cause precision problems.\n",
      "  ConvergenceWarning)\n"
     ]
    },
    {
     "name": "stdout",
     "output_type": "stream",
     "text": [
      "alpha: 0.1\n",
      "Training r^2: 0.6815444728632503\n",
      "Testing r^2: 0.6805702280734753\n",
      "Training MSE: 13900.937273119202\n",
      "Testing MSE: 14144.134254434819\n",
      "------------------------------\n",
      "alpha: 2\n",
      "Training r^2: 0.681327493568046\n",
      "Testing r^2: 0.6803631163989254\n",
      "Training MSE: 13905.67216027997\n",
      "Testing MSE: 14148.718893843332\n",
      "------------------------------\n",
      "alpha: 5\n",
      "Training r^2: 0.6804148392891596\n",
      "Testing r^2: 0.6794294634777188\n",
      "Training MSE: 13925.570327457972\n",
      "Testing MSE: 14169.367887961196\n",
      "------------------------------\n"
     ]
    },
    {
     "name": "stderr",
     "output_type": "stream",
     "text": [
      "C:\\Users\\fogelrac\\AppData\\Local\\Continuum\\anaconda3\\anaconda3.7\\lib\\site-packages\\sklearn\\linear_model\\coordinate_descent.py:491: ConvergenceWarning: Objective did not converge. You might want to increase the number of iterations. Fitting data with very small alpha may cause precision problems.\n",
      "  ConvergenceWarning)\n"
     ]
    },
    {
     "name": "stdout",
     "output_type": "stream",
     "text": [
      "alpha: 10\n",
      "Training r^2: 0.6781490486558852\n",
      "Testing r^2: 0.6770669625358801\n",
      "Training MSE: 13974.847801919941\n",
      "Testing MSE: 14221.483868929085\n",
      "------------------------------\n"
     ]
    }
   ],
   "source": [
    "\n",
    "for i in [.1,2, 5, 10 ]:\n",
    "    L1 = Lasso(alpha=i) \n",
    "    L1.fit(X_train, y_train)\n",
    "    print(\"alpha:\", i)\n",
    "    print('Training r^2:', L1.score(X_train, y_train))\n",
    "    print('Testing r^2:', L1.score(X_test, y_test))\n",
    "    print('Training MSE:', np.sqrt(mean_squared_error(y_train, L1.predict(X_train))))\n",
    "    print('Testing MSE:', np.sqrt(mean_squared_error(y_test, L1.predict(X_test))))\n",
    "    \n",
    "    print(\"---\"*10)"
   ]
  },
  {
   "cell_type": "code",
   "execution_count": 99,
   "metadata": {},
   "outputs": [
    {
     "name": "stderr",
     "output_type": "stream",
     "text": [
      "C:\\Users\\fogelrac\\AppData\\Local\\Continuum\\anaconda3\\anaconda3.7\\lib\\site-packages\\sklearn\\linear_model\\coordinate_descent.py:491: ConvergenceWarning: Objective did not converge. You might want to increase the number of iterations. Fitting data with very small alpha may cause precision problems.\n",
      "  ConvergenceWarning)\n"
     ]
    },
    {
     "name": "stdout",
     "output_type": "stream",
     "text": [
      "alpha: 10\n",
      "Training r^2: 0.6815484100063198\n",
      "Testing r^2: 0.6805755700101279\n",
      "Training MSE: 13900.851342520826\n",
      "Testing MSE: 14144.015985269374\n"
     ]
    }
   ],
   "source": [
    "# lower alpha is better\n",
    "\n",
    "L1 = Lasso(alpha=1e-100) \n",
    " \n",
    "L1.fit(X_train, y_train)\n",
    "print(\"alpha:\", i)\n",
    "print('Training r^2:', L1.score(X_train, y_train))\n",
    "print('Testing r^2:', L1.score(X_test, y_test))\n",
    "print('Training MSE:', np.sqrt(mean_squared_error(y_train, L1.predict(X_train))))\n",
    "print('Testing MSE:', np.sqrt(mean_squared_error(y_test, L1.predict(X_test))))\n",
    "\n",
    "\n",
    "estimated_weekly_sales=y_hat_test \n"
   ]
  },
  {
   "cell_type": "code",
   "execution_count": 100,
   "metadata": {},
   "outputs": [
    {
     "name": "stdout",
     "output_type": "stream",
     "text": [
      "[[1.         0.82570958]\n",
      " [0.82570958 1.        ]]\n"
     ]
    },
    {
     "data": {
      "text/plain": [
       "Text(0,0.5,'Prediction of weekly sales')"
      ]
     },
     "execution_count": 100,
     "metadata": {},
     "output_type": "execute_result"
    },
    {
     "data": {
      "image/png": "[encoded data removed]",
      "text/plain": [
       "<Figure size 432x288 with 1 Axes>"
      ]
     },
     "metadata": {
      "needs_background": "light"
     },
     "output_type": "display_data"
    }
   ],
   "source": [
    "#make x the weekly sales\n",
    "#make y estimated weekly sales \n",
    "# use y test and estimated_weekly_sales so they are the same size\n",
    "\n",
    "\n",
    "x , y = y_test, estimated_weekly_sales\n",
    "print(np.corrcoef(x,y))\n",
    "plt.scatter(x,y, c=\"y\")\n",
    "plt.title('True weekly Sales vs. Model prediction of weekly sales')\n",
    "plt.xlabel('True weekly Sales') \n",
    "plt.ylabel('Prediction of weekly sales') \n"
   ]
  },
  {
   "cell_type": "code",
   "execution_count": 101,
   "metadata": {},
   "outputs": [],
   "source": [
    "# create a new list to make the color set like this if within  25% green, if between 25-75% then yello if 75< then red\n",
    "\n",
    "color=[]\n",
    "\n",
    "for i in list(zip(y_test, estimated_weekly_sales)):\n",
    "    percent_off=(i[0])/(i[1])\n",
    "   \n",
    "    if percent_off <=.35:\n",
    "         color.append('g')\n",
    "    elif percent_off >.35 and percent_off <.75:\n",
    "         color.append('y')\n",
    "    else :\n",
    "        color.append('r')\n"
   ]
  },
  {
   "cell_type": "code",
   "execution_count": 211,
   "metadata": {},
   "outputs": [
    {
     "name": "stdout",
     "output_type": "stream",
     "text": [
      "[[1.         0.82570958]\n",
      " [0.82570958 1.        ]]\n"
     ]
    },
    {
     "data": {
      "text/plain": [
       "(0, 100000)"
      ]
     },
     "execution_count": 211,
     "metadata": {},
     "output_type": "execute_result"
    },
    {
     "data": {
      "image/png": "[encoded data removed]",
      "text/plain": [
       "<Figure size 432x288 with 1 Axes>"
      ]
     },
     "metadata": {
      "needs_background": "light"
     },
     "output_type": "display_data"
    }
   ],
   "source": [
    "x , y = y_test, estimated_weekly_sales\n",
    "print(np.corrcoef(x,y))\n",
    "plt.scatter(x,y, c=color, label= color)\n",
    "plt.title('True weekly Sales vs. Model prediction of weekly sales')\n",
    "plt.xlabel('True weekly Sales') \n",
    "plt.ylabel('Prediction of weekly sales (r^=.69)') \n",
    "plt.xlim(0, 100000)\n",
    "plt.ylim(0, 100000)\n",
    "\n",
    "\n",
    "\n"
   ]
  },
  {
   "cell_type": "code",
   "execution_count": 143,
   "metadata": {},
   "outputs": [],
   "source": []
  },
  {
   "cell_type": "code",
   "execution_count": null,
   "metadata": {},
   "outputs": [],
   "source": []
  },
  {
   "cell_type": "code",
   "execution_count": null,
   "metadata": {},
   "outputs": [],
   "source": []
  },
  {
   "cell_type": "code",
   "execution_count": null,
   "metadata": {},
   "outputs": [],
   "source": []
  }
 ],
 "metadata": {
  "kernelspec": {
   "display_name": "Python 3",
   "language": "python",
   "name": "python3"
  },
  "language_info": {
   "codemirror_mode": {
    "name": "ipython",
    "version": 3
   },
   "file_extension": ".py",
   "mimetype": "text/x-python",
   "name": "python",
   "nbconvert_exporter": "python",
   "pygments_lexer": "ipython3",
   "version": "3.7.0"
  }
 },
 "nbformat": 4,
 "nbformat_minor": 2
}
